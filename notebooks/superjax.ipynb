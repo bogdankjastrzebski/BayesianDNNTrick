{
 "cells": [
  {
   "cell_type": "code",
   "execution_count": 14,
   "id": "33a2737d-29fa-4134-b414-39bd3f24ebfe",
   "metadata": {},
   "outputs": [],
   "source": [
    "import jax \n",
    "import jax.numpy as np\n",
    "from jax import jit, vmap, grad, value_and_grad"
   ]
  },
  {
   "cell_type": "code",
   "execution_count": 105,
   "id": "623d71ca-d8a1-44a4-b8cb-4b129de8f7b4",
   "metadata": {},
   "outputs": [],
   "source": [
    "class Dense:\n",
    "    def __init__(self, input_dim, output_dim, activation_function):\n",
    "        self.input_dim = input_dim\n",
    "        self.output_dim = output_dim \n",
    "        self.activation_function = activation_function\n",
    "        \n",
    "    def init(self, key):\n",
    "        self.weight = jax.random.normal(key, shape=(self.input_dim, self.output_dim))\n",
    "        self.bias = np.zeros((self.output_dim, ))\n",
    "        return self\n",
    "            \n",
    "    def forward(self, params, X):\n",
    "        weight, bias = params\n",
    "        return self.activation_function(X @ weight + bias)\n",
    "    \n",
    "    def parameters(self):\n",
    "        return (self.weight, self.bias)\n",
    "    \n",
    "    def __call__(self, X):\n",
    "        return self.forward(self.parameters(), X)\n",
    "    \n",
    "    def __repr__(self):\n",
    "        return f\"Dense({self.input_dim}, {self.output_dim}, {self.activation_function})\"\n",
    "    \n",
    "class Sequential:\n",
    "    def __init__(self, *layers):\n",
    "        self.layers = layers\n",
    "        self.forwards = [l.forward for l in layers]\n",
    "        \n",
    "    def init(self, key):\n",
    "        keys = jax.random.split(key, len(self.layers))\n",
    "        for key, layer in zip(keys, self.layers): \n",
    "            layer.init(key)\n",
    "        return self\n",
    "        \n",
    "    def forward(self, params, X):\n",
    "        for forward, params in zip(self.forwards, params):\n",
    "            X = forward(params, X)\n",
    "        return X\n",
    "    \n",
    "    def parameters(self):\n",
    "        return [l.parameters() for l in self.layers]\n",
    "    \n",
    "    def __call__(self, X):\n",
    "        return self.forward(self.parameters(), X)\n",
    "    \n",
    "    def __getitem__(self, idx):\n",
    "        return self.layers[idx]\n",
    "    \n",
    "    def __repr__(self):\n",
    "        return \"Sequential(\\n\\t\" + \"\\n\\t\".join([str(l) for l in self.layers]) + \"\\n)\""
   ]
  },
  {
   "cell_type": "code",
   "execution_count": 106,
   "id": "ff826bc0-bfc4-4821-b577-a9ffe1cb687b",
   "metadata": {},
   "outputs": [],
   "source": [
    "key = jax.random.PRNGKey(10022023)\n",
    "X = jax.random.normal(key, shape=(100,10))"
   ]
  },
  {
   "cell_type": "code",
   "execution_count": 107,
   "id": "73d3c166-64f6-4d85-b8c4-cd978dd84e93",
   "metadata": {},
   "outputs": [],
   "source": [
    "m = Dense(10, 1, jax.nn.relu).init(key)"
   ]
  },
  {
   "cell_type": "code",
   "execution_count": 108,
   "id": "7c3c8539-d16c-4c07-afea-7d3e041e3afc",
   "metadata": {},
   "outputs": [],
   "source": [
    "f = m.forward # (m.parameters(), X)"
   ]
  },
  {
   "cell_type": "code",
   "execution_count": 109,
   "id": "e504cf07-a606-45fe-90f6-105657c209bc",
   "metadata": {},
   "outputs": [
    {
     "data": {
      "text/plain": [
       "Array(132.36319, dtype=float32)"
      ]
     },
     "execution_count": 109,
     "metadata": {},
     "output_type": "execute_result"
    }
   ],
   "source": [
    "f(m.parameters(), X).sum()"
   ]
  },
  {
   "cell_type": "code",
   "execution_count": 110,
   "id": "03331f03-dbfb-449d-8879-c3f03ca4f05d",
   "metadata": {},
   "outputs": [],
   "source": [
    "m = Sequential(\n",
    "    Dense(10, 10, jax.nn.relu),\n",
    "    Dense(10, 10, jax.nn.relu),\n",
    "    Dense(10, 1, jax.nn.relu)\n",
    ").init(key)"
   ]
  },
  {
   "cell_type": "code",
   "execution_count": 111,
   "id": "7b056cf9-6b1b-4c36-8314-f25a535cf0c0",
   "metadata": {},
   "outputs": [
    {
     "data": {
      "text/plain": [
       "Array(57.864437, dtype=float32)"
      ]
     },
     "execution_count": 111,
     "metadata": {},
     "output_type": "execute_result"
    }
   ],
   "source": [
    "m.forward(m.parameters(), X).sum()"
   ]
  },
  {
   "cell_type": "code",
   "execution_count": 112,
   "id": "be32272f-a289-4800-87ea-cabea83c91b1",
   "metadata": {},
   "outputs": [],
   "source": [
    "mgrad = grad(lambda params: m.forward(params, X).sum())"
   ]
  },
  {
   "cell_type": "code",
   "execution_count": 113,
   "id": "042afcc1-7999-4d05-ab06-86d466e6fa3f",
   "metadata": {},
   "outputs": [
    {
     "data": {
      "text/plain": [
       "[(Array([[ -0.626534  , -17.438547  ,  16.129044  ,   1.2630304 ,\n",
       "            2.1067398 ,  -6.9283752 ,   2.2276483 ,   0.68698466,\n",
       "           -2.61875   , -11.255062  ],\n",
       "         [ -6.12702   ,   7.6707716 ,   2.2247057 ,   1.0202217 ,\n",
       "            4.463752  ,   1.1785495 ,   3.4267712 ,   0.06752861,\n",
       "            3.4373503 ,  -0.7026036 ],\n",
       "         [  2.4765031 , -19.501953  ,  -0.06946325,  -1.2984426 ,\n",
       "            7.8993673 ,   5.3442926 ,   0.19254339,   2.2392218 ,\n",
       "            2.4026012 ,  -8.619766  ],\n",
       "         [  4.3844624 ,  -2.7639103 ,   2.2434168 ,   1.2925116 ,\n",
       "           -7.4353733 ,  -0.08772272,  -4.419743  ,   1.8536824 ,\n",
       "           -2.6192687 ,  -1.557554  ],\n",
       "         [  0.26664865,   8.552589  ,  -0.87628794,   0.3133682 ,\n",
       "           -8.754532  ,  -3.5224063 ,  -1.4837507 ,   3.55223   ,\n",
       "           -1.8649522 ,   0.90313494],\n",
       "         [  0.6428221 ,  -7.1643724 ,  12.608136  ,  -2.7341893 ,\n",
       "            2.172816  ,  -2.2688553 ,   1.3390968 ,  -0.47164115,\n",
       "           -1.5675645 ,   0.5526991 ],\n",
       "         [  1.65272   ,  -0.80865574,  -7.6442327 ,  -1.8054063 ,\n",
       "           -3.756205  ,  -4.5331616 ,  -1.486866  ,  -0.04645562,\n",
       "           -2.6339526 ,   1.0350039 ],\n",
       "         [ 11.220874  , -17.140923  ,  29.13147   ,  -0.6211433 ,\n",
       "           -4.0761447 ,   5.878432  ,  -5.322397  ,  -0.8340608 ,\n",
       "           -5.6375465 ,  -3.2074533 ],\n",
       "         [ -4.2843995 ,   9.384229  , -24.853952  ,  -0.09682238,\n",
       "            8.731335  ,  -2.0204337 ,   2.6942163 ,  -1.891766  ,\n",
       "            1.8076026 ,   5.4643073 ],\n",
       "         [ -2.9043772 , -14.304499  ,  -0.3769908 ,   0.775612  ,\n",
       "            4.291959  ,  -4.3590436 ,   7.4120407 ,  -3.1916876 ,\n",
       "            0.17292929,  -4.5726123 ]], dtype=float32),\n",
       "  Array([  9.300909  , -24.282307  ,  38.61077   ,  -0.73133093,\n",
       "          -0.28671336,   3.7928681 ,  -4.201574  ,   2.5081894 ,\n",
       "          -2.4342055 ,  -5.7204337 ], dtype=float32)),\n",
       " (Array([[-2.1417224e+00, -5.0551343e+00,  0.0000000e+00, -2.9031637e+01,\n",
       "          -2.8730338e+00, -1.0840228e+00, -2.3088743e+01,  1.9957903e+01,\n",
       "           2.0842091e+01,  9.1302309e+00],\n",
       "         [-6.0485387e+00, -1.2772561e+00,  0.0000000e+00, -1.4189419e+01,\n",
       "           0.0000000e+00, -3.2796526e+00, -1.4221178e+01,  1.1578999e+01,\n",
       "           1.0796049e+01,  3.9245226e+00],\n",
       "         [-3.6387199e+01, -1.3076816e+00, -3.9239178e+00, -8.5858746e+00,\n",
       "          -4.7171798e+00, -2.2330200e+01, -5.6165581e+01,  3.0954685e+01,\n",
       "           4.5396751e+01,  1.2911221e+01],\n",
       "         [-5.0068064e+00, -7.1748586e+00,  0.0000000e+00, -2.6150229e+01,\n",
       "          -4.2704301e+00, -1.0289109e+00, -2.6098083e+01,  1.6473621e+01,\n",
       "           2.0013224e+01,  1.1395672e+01],\n",
       "         [-3.1174846e+00, -1.2561928e+00, -3.8516755e+00, -1.0899270e+01,\n",
       "          -5.0799417e+00, -1.3194586e+00, -1.3863466e+01,  1.1114641e+01,\n",
       "           1.8985222e+01,  3.6038985e+00],\n",
       "         [-1.6120512e+01, -2.5369844e+00, -5.0154763e-01, -9.8640757e+00,\n",
       "          -8.8529892e+00, -9.4250088e+00, -3.5385612e+01,  1.9052662e+01,\n",
       "           2.7834110e+01,  7.4877334e+00],\n",
       "         [-3.7299817e+00, -1.2561548e+00,  0.0000000e+00, -1.6238977e+01,\n",
       "           0.0000000e+00, -2.3162434e+00, -1.6328251e+01,  1.2092718e+01,\n",
       "           9.5969496e+00,  4.4730387e+00],\n",
       "         [-6.5049334e+00, -4.4649582e+00, -2.0904434e+00, -6.0231805e+00,\n",
       "          -1.7616868e+00, -2.3741736e+00, -2.5353374e+00,  8.6841240e+00,\n",
       "           1.7762203e+01,  3.1724701e+00],\n",
       "         [-1.0899138e+01,  0.0000000e+00, -1.3201685e+00, -4.6143594e+00,\n",
       "          -3.5030622e+00, -7.6043692e+00, -2.4986305e+01,  1.2745983e+01,\n",
       "           2.0012272e+01,  1.4054511e+00],\n",
       "         [-1.4422745e+01, -2.3028930e-01, -1.1810974e-02, -9.8805504e+00,\n",
       "           0.0000000e+00, -8.9562330e+00, -2.3566248e+01,  1.6194622e+01,\n",
       "           1.7139599e+01,  6.9228010e+00]], dtype=float32),\n",
       "  Array([-10.500896 ,  -2.9139917,  -1.3852869,  -7.1637874,  -3.694076 ,\n",
       "          -5.9774413, -18.858253 ,  12.270054 ,  18.287659 ,   5.5978336],      dtype=float32)),\n",
       " (Array([[ 29.84752   ],\n",
       "         [  0.81396943],\n",
       "         [  2.2691982 ],\n",
       "         [  9.658792  ],\n",
       "         [ 13.235297  ],\n",
       "         [ 35.164238  ],\n",
       "         [ 78.877266  ],\n",
       "         [149.1428    ],\n",
       "         [140.96768   ],\n",
       "         [ 18.266285  ]], dtype=float32),\n",
       "  Array([24.], dtype=float32))]"
      ]
     },
     "execution_count": 113,
     "metadata": {},
     "output_type": "execute_result"
    }
   ],
   "source": [
    "mgrad(m.parameters())"
   ]
  },
  {
   "cell_type": "code",
   "execution_count": null,
   "id": "eedef981-8e8a-413c-98db-a0bfa4150b40",
   "metadata": {},
   "outputs": [],
   "source": []
  },
  {
   "cell_type": "code",
   "execution_count": 114,
   "id": "31e3832b-9df9-493a-96a9-3fcafe2ee1a7",
   "metadata": {},
   "outputs": [
    {
     "data": {
      "text/plain": [
       "Sequential(\n",
       "\tDense(10, 10, <jax._src.custom_derivatives.custom_jvp object at 0x7f205c95ef50>)\n",
       "\tDense(10, 10, <jax._src.custom_derivatives.custom_jvp object at 0x7f205c95ef50>)\n",
       "\tDense(10, 1, <jax._src.custom_derivatives.custom_jvp object at 0x7f205c95ef50>)\n",
       ")"
      ]
     },
     "execution_count": 114,
     "metadata": {},
     "output_type": "execute_result"
    }
   ],
   "source": [
    "m"
   ]
  },
  {
   "cell_type": "code",
   "execution_count": null,
   "id": "b3cbbd40-261e-4d7e-a8dc-6bdb3800a490",
   "metadata": {},
   "outputs": [],
   "source": []
  },
  {
   "cell_type": "code",
   "execution_count": null,
   "id": "1547df77-65fb-4655-8987-7baac1662d8b",
   "metadata": {},
   "outputs": [],
   "source": []
  }
 ],
 "metadata": {
  "kernelspec": {
   "display_name": "Python 3 (ipykernel)",
   "language": "python",
   "name": "python3"
  },
  "language_info": {
   "codemirror_mode": {
    "name": "ipython",
    "version": 3
   },
   "file_extension": ".py",
   "mimetype": "text/x-python",
   "name": "python",
   "nbconvert_exporter": "python",
   "pygments_lexer": "ipython3",
   "version": "3.10.6"
  }
 },
 "nbformat": 4,
 "nbformat_minor": 5
}
