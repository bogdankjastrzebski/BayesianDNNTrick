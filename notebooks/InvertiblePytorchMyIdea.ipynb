{
 "cells": [
  {
   "cell_type": "code",
   "execution_count": 2,
   "id": "a5c19c25-a6ac-42ef-bb7d-f6bc7f7e6c4f",
   "metadata": {},
   "outputs": [],
   "source": [
    "import torch\n",
    "import matplotlib.pyplot as plt\n",
    "import numpy as np\n",
    "\n",
    "plt.style.use('dark_background')\n",
    "background_color = tuple(np.array([66, 68, 69])/255)\n",
    "plt.rcParams['axes.facecolor'] = background_color\n",
    "plt.rcParams['figure.facecolor'] = background_color"
   ]
  },
  {
   "cell_type": "markdown",
   "id": "77b13291-b8fe-4986-835b-852d5712a7cc",
   "metadata": {},
   "source": [
    "# Idea\n",
    "\n",
    "Our linear layer is linearized and made positive-definite using low dimentional factorization with \"residual\" connection, $U^TU$ is being kept lipschitz with constant smaller than one.\n",
    "\n",
    "$$ m >> n \\qquad U \\in \\mathbb{R}^{n \\times m} \\qquad U^TU$$\n",
    "$$ l_{U}(x) = \\sigma((U^TU + I)x) = \\sigma( U^T (Ux) + x ) $$\n"
   ]
  },
  {
   "cell_type": "code",
   "execution_count": 127,
   "id": "0946da4a-06b6-4402-8381-27aa90d94e6e",
   "metadata": {},
   "outputs": [],
   "source": [
    "x = torch.rand(100)\n",
    "a = 10\n",
    "U = torch.rand(10,100)/a\n",
    "V = torch.rand(10,100)/a\n",
    "M = (U.T @ U) - (V.T @ V) + torch.eye(100)\n",
    "M = (U.T @ U) + torch.eye(100)"
   ]
  },
  {
   "cell_type": "code",
   "execution_count": 128,
   "id": "ba12a64d-6c0d-47d8-abc9-ff31ccd5732b",
   "metadata": {},
   "outputs": [
    {
     "data": {
      "text/plain": [
       "tensor([1.0000, 1.0000, 1.0000, 1.0000, 1.0000, 1.0000, 1.0000, 1.0000, 1.0000,\n",
       "        1.0000, 1.0000, 1.0000, 1.0000, 1.0000, 1.0000, 1.0000, 1.0000, 1.0000,\n",
       "        1.0000, 1.0000, 1.0000, 1.0000, 1.0000, 1.0000, 1.0000, 1.0000, 1.0000,\n",
       "        1.0000, 1.0000, 1.0000, 1.0000, 1.0000, 1.0000, 1.0000, 1.0000, 1.0000,\n",
       "        1.0000, 1.0000, 1.0000, 1.0000, 1.0000, 1.0000, 1.0000, 1.0000, 1.0000,\n",
       "        1.0000, 1.0000, 1.0000, 1.0000, 1.0000, 1.0000, 1.0000, 1.0000, 1.0000,\n",
       "        1.0000, 1.0000, 1.0000, 1.0000, 1.0000, 1.0000, 1.0000, 1.0000, 1.0000,\n",
       "        1.0000, 1.0000, 1.0000, 1.0000, 1.0000, 1.0000, 1.0000, 1.0000, 1.0000,\n",
       "        1.0000, 1.0000, 1.0000, 1.0000, 1.0000, 1.0000, 1.0000, 1.0000, 1.0000,\n",
       "        1.0000, 1.0000, 1.0000, 1.0000, 1.0000, 1.0000, 1.0000, 1.0000, 1.0000,\n",
       "        1.0491, 1.0547, 1.0691, 1.0705, 1.0796, 1.0860, 1.0923, 1.1128, 1.1250,\n",
       "        3.5749])"
      ]
     },
     "execution_count": 128,
     "metadata": {},
     "output_type": "execute_result"
    }
   ],
   "source": [
    "torch.linalg.eigh(M).eigenvalues"
   ]
  },
  {
   "cell_type": "code",
   "execution_count": null,
   "id": "917230c8-aed4-4fd7-93f2-54da105d0f01",
   "metadata": {},
   "outputs": [],
   "source": []
  },
  {
   "cell_type": "code",
   "execution_count": 133,
   "id": "45a156d7-6066-4e61-b7ca-429bb9db610c",
   "metadata": {},
   "outputs": [
    {
     "data": {
      "text/plain": [
       "tensor(2.5749)"
      ]
     },
     "execution_count": 133,
     "metadata": {},
     "output_type": "execute_result"
    }
   ],
   "source": [
    "torch.linalg.matrix_norm(U.T @ U, ord=2)"
   ]
  },
  {
   "cell_type": "code",
   "execution_count": 130,
   "id": "fb30bc95-9c59-49a5-99cf-37f23cb1f9b2",
   "metadata": {},
   "outputs": [
    {
     "data": {
      "text/plain": [
       "tensor([2.6255, 0.1227, 0.1082, 0.0959, 0.0912, 0.0807, 0.0682, 0.0629, 0.0600,\n",
       "        0.0531])"
      ]
     },
     "execution_count": 130,
     "metadata": {},
     "output_type": "execute_result"
    }
   ],
   "source": [
    "torch.svd(V).S.pow(2)"
   ]
  },
  {
   "cell_type": "code",
   "execution_count": 131,
   "id": "1fa964ae-596c-4f80-9c3c-4cd77813322e",
   "metadata": {},
   "outputs": [
    {
     "data": {
      "text/plain": [
       "tensor(2.6255)"
      ]
     },
     "execution_count": 131,
     "metadata": {},
     "output_type": "execute_result"
    }
   ],
   "source": [
    "torch.linalg.matrix_norm(V, ord=2).pow(2)"
   ]
  },
  {
   "cell_type": "code",
   "execution_count": 132,
   "id": "e24bf66b-69a9-4bc6-8309-534b8fc87a98",
   "metadata": {},
   "outputs": [
    {
     "data": {
      "text/plain": [
       "tensor([ 1.6255, -0.8773, -0.8918, -0.9041, -0.9088, -0.9193, -0.9318, -0.9371,\n",
       "        -0.9400, -0.9469])"
      ]
     },
     "execution_count": 132,
     "metadata": {},
     "output_type": "execute_result"
    }
   ],
   "source": [
    "torch.svd(V).S.pow(2) - 1"
   ]
  },
  {
   "cell_type": "code",
   "execution_count": null,
   "id": "c4d3e611-318d-4115-93d0-57a94133ecc5",
   "metadata": {},
   "outputs": [],
   "source": []
  }
 ],
 "metadata": {
  "kernelspec": {
   "display_name": "Python 3 (ipykernel)",
   "language": "python",
   "name": "python3"
  },
  "language_info": {
   "codemirror_mode": {
    "name": "ipython",
    "version": 3
   },
   "file_extension": ".py",
   "mimetype": "text/x-python",
   "name": "python",
   "nbconvert_exporter": "python",
   "pygments_lexer": "ipython3",
   "version": "3.10.6"
  }
 },
 "nbformat": 4,
 "nbformat_minor": 5
}
