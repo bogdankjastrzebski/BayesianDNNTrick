{
 "cells": [
  {
   "cell_type": "code",
   "execution_count": 2,
   "id": "a5c19c25-a6ac-42ef-bb7d-f6bc7f7e6c4f",
   "metadata": {},
   "outputs": [],
   "source": [
    "import torch\n",
    "import matplotlib.pyplot as plt\n",
    "import numpy as np\n",
    "\n",
    "plt.style.use('dark_background')\n",
    "background_color = tuple(np.array([66, 68, 69])/255)\n",
    "plt.rcParams['axes.facecolor'] = background_color\n",
    "plt.rcParams['figure.facecolor'] = background_color"
   ]
  },
  {
   "cell_type": "markdown",
   "id": "77b13291-b8fe-4986-835b-852d5712a7cc",
   "metadata": {},
   "source": [
    "# Idea\n",
    "\n",
    "Our linear layer is linearized and made positive-definite using low dimentional factorization with \"residual\" connection, $U^TU$ is being kept lipschitz with constant smaller than one.\n",
    "\n",
    "$$ m >> n \\qquad U \\in \\mathbb{R}^{n \\times m} \\qquad U^TU$$\n",
    "$$ l_{U}(x) = \\sigma((U^TU + I)x) = \\sigma( U^T (Ux) + x ) $$\n"
   ]
  },
  {
   "cell_type": "code",
   "execution_count": 372,
   "id": "2851d665-69df-4710-89c3-7e4ddfc05985",
   "metadata": {},
   "outputs": [],
   "source": [
    "class InvertibleLayer(torch.nn.Module):\n",
    "    def __init__(self, input_dim, hidden_dim):\n",
    "        super(InvertibleLayer, self).__init__()\n",
    "        self.input_dim = input_dim\n",
    "        self.output_dim = input_dim\n",
    "        self.hiden_dim = hidden_dim\n",
    "        \n",
    "        self.U = torch.randn(input_dim, hidden_dim)/hidden_dim\n",
    "        self.V = torch.randn(input_dim, hidden_dim)/hidden_dim\n",
    "        self.b = torch.zeros(input_dim)\n",
    "        \n",
    "    def forward(self, X):\n",
    "        X = X + (X @ self.U) @ self.U.T \n",
    "        X = X - (X @ self.V) @ self.V.T\n",
    "        X = X + self.b\n",
    "        return X\n",
    "    \n",
    "    def constraint(self):\n",
    "        return torch.relu(torch.linalg.matrix_norm(self.U, ord=2).pow(2) - 1) + torch.relu(torch.linalg.matrix_norm(self.V, ord=2).pow(2) - 1)\n",
    "    \n",
    "    def logdet(self, X):\n",
    "        logdetU = (torch.linalg.svd(U).S.pwd(2) + 1).log().sum()\n",
    "        logdetV = (torch.linalg.svd(V).S.pwd(2) + 1).log().sum()\n",
    "        return logdetU + logdetV\n",
    "    \n",
    "    def call(self, X):\n",
    "        return self.forward(X), self.logdet(X)\n",
    "    \n",
    "class InvertibleActivation(torch.nn.Module):\n",
    "    def __init__(self):\n",
    "        super(InvertibleActivation, self).__init__()\n",
    "        \n",
    "    def forward(self, X):\n",
    "        return torch.tanh(X)\n",
    "    \n",
    "    def logdet(self, X):\n",
    "        return (1 - torch.tanh(X).pow(2)).log().sum()\n",
    "    \n",
    "    def call(self, X):\n",
    "        t = torch.tanh(X)\n",
    "        return t, (1 - t.pow(2)).log(2).sum()\n",
    "    \n",
    "class InvertibleSequential(torch.nn.Module):\n",
    "    def __init__(self, *layers):\n",
    "        super(InvertibleSequential, self).__init__()\n",
    "        self.layers = layers\n",
    "        \n",
    "    def forward(self, X):\n",
    "        for l in self.layers:\n",
    "            X = l(X)\n",
    "        return X\n",
    "    \n",
    "    def logdet(self, X):\n",
    "        return self.call(X)[1]\n",
    "    \n",
    "    def call(self, X):\n",
    "        ld = 0\n",
    "        for l in self.layers:\n",
    "            X, logdet = l.call(X)\n",
    "            ld += logdet\n",
    "        return X, ld"
   ]
  },
  {
   "cell_type": "code",
   "execution_count": null,
   "id": "c3d594c7-560c-428f-8455-5b938d2789b0",
   "metadata": {},
   "outputs": [],
   "source": []
  },
  {
   "cell_type": "code",
   "execution_count": 373,
   "id": "3e58a4aa-2b5a-4450-b4f2-ec1f29623003",
   "metadata": {},
   "outputs": [
    {
     "data": {
      "text/plain": [
       "tensor(0.6737)"
      ]
     },
     "execution_count": 373,
     "metadata": {},
     "output_type": "execute_result"
    }
   ],
   "source": [
    "torch.linalg.svd(U.T @ U + torch.eye(100)).S.log().sum()"
   ]
  },
  {
   "cell_type": "code",
   "execution_count": 374,
   "id": "45aeb91e-bd02-449c-9656-0d29dc51e9c6",
   "metadata": {},
   "outputs": [
    {
     "data": {
      "text/plain": [
       "tensor(1.9615)"
      ]
     },
     "execution_count": 374,
     "metadata": {},
     "output_type": "execute_result"
    }
   ],
   "source": [
    "(torch.linalg.svd(U).S.pow(2) + 1).prod()"
   ]
  },
  {
   "cell_type": "code",
   "execution_count": 375,
   "id": "bd43bb57-b064-4270-a2f7-1eba5d1527aa",
   "metadata": {},
   "outputs": [
    {
     "data": {
      "text/plain": [
       "tensor(0.5713)"
      ]
     },
     "execution_count": 375,
     "metadata": {},
     "output_type": "execute_result"
    }
   ],
   "source": [
    "torch.linalg.det(U.T @ U + torch.eye(100)) * torch.linalg.det(-(V.T @ V) + torch.eye(100))"
   ]
  },
  {
   "cell_type": "code",
   "execution_count": 376,
   "id": "beedda14-7612-4066-88a8-6e434044f402",
   "metadata": {},
   "outputs": [
    {
     "data": {
      "text/plain": [
       "tensor(0.5713)"
      ]
     },
     "execution_count": 376,
     "metadata": {},
     "output_type": "execute_result"
    }
   ],
   "source": [
    "torch.linalg.det((-(V.T @ V) + torch.eye(100)) @ (U.T @ U + torch.eye(100)) )"
   ]
  },
  {
   "cell_type": "code",
   "execution_count": 377,
   "id": "f5e73758-d366-4d32-884d-9f20b73a1a8b",
   "metadata": {},
   "outputs": [
    {
     "data": {
      "text/plain": [
       "torch.return_types.linalg_eigh(\n",
       "eigenvalues=tensor([0.5264, 0.9708, 0.9716, 0.9744, 0.9759, 0.9770, 0.9815, 0.9831, 0.9858,\n",
       "        0.9862, 0.9884, 0.9913, 0.9916, 0.9949, 0.9953, 0.9955, 0.9962, 0.9963,\n",
       "        0.9970, 0.9976, 0.9977, 0.9979, 0.9981, 0.9983, 0.9985, 0.9987, 0.9988,\n",
       "        0.9988, 0.9990, 0.9990, 0.9992, 0.9992, 0.9994, 0.9994, 0.9995, 0.9996,\n",
       "        0.9996, 0.9997, 0.9997, 0.9997, 0.9998, 0.9998, 0.9998, 0.9998, 0.9999,\n",
       "        0.9999, 0.9999, 0.9999, 0.9999, 1.0000, 1.0000, 1.0000, 1.0001, 1.0001,\n",
       "        1.0001, 1.0001, 1.0002, 1.0002, 1.0002, 1.0003, 1.0003, 1.0003, 1.0004,\n",
       "        1.0004, 1.0005, 1.0005, 1.0006, 1.0007, 1.0008, 1.0008, 1.0009, 1.0009,\n",
       "        1.0012, 1.0013, 1.0014, 1.0016, 1.0017, 1.0018, 1.0020, 1.0021, 1.0023,\n",
       "        1.0028, 1.0031, 1.0033, 1.0036, 1.0047, 1.0049, 1.0075, 1.0082, 1.0107,\n",
       "        1.0118, 1.0138, 1.0155, 1.0186, 1.0209, 1.0238, 1.0266, 1.0280, 1.0307,\n",
       "        1.0886]),\n",
       "eigenvectors=tensor([[ 0.0957,  0.2201, -0.0051,  ..., -0.0027, -0.0700, -0.0418],\n",
       "        [ 0.1013, -0.1090, -0.0826,  ...,  0.1114,  0.0019, -0.0372],\n",
       "        [ 0.1288, -0.1501, -0.0265,  ...,  0.1946, -0.0477, -0.0114],\n",
       "        ...,\n",
       "        [ 0.0672, -0.1692, -0.0588,  ..., -0.0054,  0.2188,  0.0088],\n",
       "        [ 0.1471, -0.2332,  0.1420,  ..., -0.0954,  0.0924,  0.1350],\n",
       "        [ 0.0317,  0.0600,  0.0867,  ..., -0.0421, -0.1575, -0.0751]]))"
      ]
     },
     "execution_count": 377,
     "metadata": {},
     "output_type": "execute_result"
    }
   ],
   "source": [
    "torch.linalg.eigh((-(V.T @ V) + torch.eye(100)) @ (U.T @ U + torch.eye(100)) )"
   ]
  },
  {
   "cell_type": "code",
   "execution_count": 357,
   "id": "0946da4a-06b6-4402-8381-27aa90d94e6e",
   "metadata": {},
   "outputs": [],
   "source": [
    "x = torch.rand(100)\n",
    "a = 20\n",
    "U = torch.rand(10,100)/a\n",
    "V = torch.rand(10,100)/a\n",
    "M = (U.T @ U) - (V.T @ V) + torch.eye(100)\n",
    "M = (U.T @ U) + torch.eye(100)\n",
    "M = (U.T @ V) + torch.eye(100)\n",
    "M = (-(V.T @ V) + torch.eye(100)) @ ((U.T @ U) + torch.eye(100))"
   ]
  },
  {
   "cell_type": "code",
   "execution_count": null,
   "id": "78123871-360f-40f7-ba93-1d9b47037b54",
   "metadata": {},
   "outputs": [],
   "source": []
  },
  {
   "cell_type": "code",
   "execution_count": null,
   "id": "e974251f-26fd-4085-ab6e-6349906c8db7",
   "metadata": {},
   "outputs": [],
   "source": []
  },
  {
   "cell_type": "code",
   "execution_count": null,
   "id": "94989dba-8fa0-4abd-bcaf-1fd4dcaa5c43",
   "metadata": {},
   "outputs": [],
   "source": []
  },
  {
   "cell_type": "code",
   "execution_count": 309,
   "id": "b930398d-03ea-4acd-9037-6914abefbebc",
   "metadata": {},
   "outputs": [
    {
     "data": {
      "text/plain": [
       "tensor(-4.7690+0.j)"
      ]
     },
     "execution_count": 309,
     "metadata": {},
     "output_type": "execute_result"
    }
   ],
   "source": [
    "torch.linalg.eig(M).eigenvalues[0]"
   ]
  },
  {
   "cell_type": "code",
   "execution_count": 310,
   "id": "9cd38a7f-7cde-4b75-a166-900041ca8e61",
   "metadata": {},
   "outputs": [
    {
     "data": {
      "text/plain": [
       "tensor(1.5540)"
      ]
     },
     "execution_count": 310,
     "metadata": {},
     "output_type": "execute_result"
    }
   ],
   "source": [
    "torch.linalg.eigh(M).eigenvalues[-1]"
   ]
  },
  {
   "cell_type": "code",
   "execution_count": 311,
   "id": "cd228cad-bb4f-49b8-8b0b-5dedf11fe592",
   "metadata": {},
   "outputs": [
    {
     "data": {
      "text/plain": [
       "tensor([4.9816, 1.1284, 1.1219, 1.0972, 1.0780, 1.0704, 1.0610, 1.0513, 1.0472,\n",
       "        1.0407, 1.0093, 1.0000, 1.0000, 1.0000, 1.0000, 1.0000, 1.0000, 1.0000,\n",
       "        1.0000, 1.0000, 1.0000, 1.0000, 1.0000, 1.0000, 1.0000, 1.0000, 1.0000,\n",
       "        1.0000, 1.0000, 1.0000, 1.0000, 1.0000, 1.0000, 1.0000, 1.0000, 1.0000,\n",
       "        1.0000, 1.0000, 1.0000, 1.0000, 1.0000, 1.0000, 1.0000, 1.0000, 1.0000,\n",
       "        1.0000, 1.0000, 1.0000, 1.0000, 1.0000, 1.0000, 1.0000, 1.0000, 1.0000,\n",
       "        1.0000, 1.0000, 1.0000, 1.0000, 1.0000, 1.0000, 1.0000, 1.0000, 1.0000,\n",
       "        1.0000, 1.0000, 1.0000, 1.0000, 1.0000, 1.0000, 1.0000, 1.0000, 1.0000,\n",
       "        1.0000, 1.0000, 1.0000, 1.0000, 1.0000, 1.0000, 1.0000, 1.0000, 1.0000,\n",
       "        1.0000, 1.0000, 1.0000, 1.0000, 1.0000, 1.0000, 1.0000, 1.0000, 1.0000,\n",
       "        1.0000, 0.9567, 0.9503, 0.9311, 0.9291, 0.9213, 0.9173, 0.9029, 0.8993,\n",
       "        0.8762])"
      ]
     },
     "execution_count": 311,
     "metadata": {},
     "output_type": "execute_result"
    }
   ],
   "source": [
    "torch.linalg.svd(M).S"
   ]
  },
  {
   "cell_type": "code",
   "execution_count": 295,
   "id": "bf195916-eeac-418f-b637-6b0558a9385d",
   "metadata": {},
   "outputs": [
    {
     "data": {
      "text/plain": [
       "tensor(6.2303e+08)"
      ]
     },
     "execution_count": 295,
     "metadata": {},
     "output_type": "execute_result"
    }
   ],
   "source": [
    "torch.linalg.matrix_norm(M, ord=2)"
   ]
  },
  {
   "cell_type": "code",
   "execution_count": 286,
   "id": "43d062a6-9206-4214-bd61-48b34ebdf7ee",
   "metadata": {},
   "outputs": [
    {
     "data": {
      "text/plain": [
       "tensor(-5.3199)"
      ]
     },
     "execution_count": 286,
     "metadata": {},
     "output_type": "execute_result"
    }
   ],
   "source": [
    "torch.linalg.det(M)"
   ]
  },
  {
   "cell_type": "code",
   "execution_count": 267,
   "id": "d71250bd-63e7-406f-9a6f-d78d13aed316",
   "metadata": {},
   "outputs": [
    {
     "data": {
      "text/plain": [
       "tensor(52.6636)"
      ]
     },
     "execution_count": 267,
     "metadata": {},
     "output_type": "execute_result"
    }
   ],
   "source": [
    "torch.linalg.svd(M).S.prod()"
   ]
  },
  {
   "cell_type": "code",
   "execution_count": null,
   "id": "5bc47c06-f2c2-4412-969d-6cd35f576428",
   "metadata": {},
   "outputs": [],
   "source": []
  },
  {
   "cell_type": "code",
   "execution_count": 268,
   "id": "5257029d-0a66-4649-bfa0-1231370c4383",
   "metadata": {},
   "outputs": [
    {
     "data": {
      "text/plain": [
       "tensor([2.5742, 0.1245, 0.1088, 0.0968, 0.0933, 0.0817, 0.0707, 0.0616, 0.0545,\n",
       "        0.0467])"
      ]
     },
     "execution_count": 268,
     "metadata": {},
     "output_type": "execute_result"
    }
   ],
   "source": [
    "(torch.linalg.svd(V).S * torch.linalg.svd(U).S)"
   ]
  },
  {
   "cell_type": "code",
   "execution_count": null,
   "id": "7511f3ea-983a-44fd-b729-e2931a87cad5",
   "metadata": {},
   "outputs": [],
   "source": []
  },
  {
   "cell_type": "code",
   "execution_count": 269,
   "id": "ba12a64d-6c0d-47d8-abc9-ff31ccd5732b",
   "metadata": {},
   "outputs": [
    {
     "data": {
      "text/plain": [
       "tensor(23.4800)"
      ]
     },
     "execution_count": 269,
     "metadata": {},
     "output_type": "execute_result"
    }
   ],
   "source": [
    "torch.linalg.eigh(M).eigenvalues.prod()"
   ]
  },
  {
   "cell_type": "code",
   "execution_count": 270,
   "id": "95719132-f853-4ef4-b997-1ad8ed1e4348",
   "metadata": {},
   "outputs": [
    {
     "data": {
      "text/plain": [
       "tensor([3.5742, 1.1245, 1.1088, 1.0968, 1.0933, 1.0817, 1.0707, 1.0616, 1.0545,\n",
       "        1.0467])"
      ]
     },
     "execution_count": 270,
     "metadata": {},
     "output_type": "execute_result"
    }
   ],
   "source": [
    "(torch.linalg.svd(U).S * torch.linalg.svd(V).S + 1)"
   ]
  },
  {
   "cell_type": "code",
   "execution_count": 271,
   "id": "917230c8-aed4-4fd7-93f2-54da105d0f01",
   "metadata": {},
   "outputs": [
    {
     "data": {
      "text/plain": [
       "tensor([2.6375, 0.1253, 0.1056, 0.1016, 0.0970, 0.0792, 0.0758, 0.0633, 0.0553,\n",
       "        0.0507])"
      ]
     },
     "execution_count": 271,
     "metadata": {},
     "output_type": "execute_result"
    }
   ],
   "source": [
    "torch.linalg.svd(U).S.pow(2)"
   ]
  },
  {
   "cell_type": "code",
   "execution_count": 272,
   "id": "45a156d7-6066-4e61-b7ca-429bb9db610c",
   "metadata": {},
   "outputs": [
    {
     "data": {
      "text/plain": [
       "tensor(2.6375)"
      ]
     },
     "execution_count": 272,
     "metadata": {},
     "output_type": "execute_result"
    }
   ],
   "source": [
    "torch.linalg.matrix_norm(U.T @ U, ord=2)"
   ]
  },
  {
   "cell_type": "code",
   "execution_count": 273,
   "id": "fb30bc95-9c59-49a5-99cf-37f23cb1f9b2",
   "metadata": {},
   "outputs": [
    {
     "data": {
      "text/plain": [
       "tensor([2.5124, 0.1237, 0.1120, 0.0922, 0.0898, 0.0842, 0.0661, 0.0600, 0.0538,\n",
       "        0.0431])"
      ]
     },
     "execution_count": 273,
     "metadata": {},
     "output_type": "execute_result"
    }
   ],
   "source": [
    "torch.svd(V).S.pow(2)"
   ]
  },
  {
   "cell_type": "code",
   "execution_count": 274,
   "id": "1fa964ae-596c-4f80-9c3c-4cd77813322e",
   "metadata": {},
   "outputs": [
    {
     "data": {
      "text/plain": [
       "tensor(2.5124)"
      ]
     },
     "execution_count": 274,
     "metadata": {},
     "output_type": "execute_result"
    }
   ],
   "source": [
    "torch.linalg.matrix_norm(V, ord=2).pow(2)"
   ]
  },
  {
   "cell_type": "code",
   "execution_count": 275,
   "id": "e24bf66b-69a9-4bc6-8309-534b8fc87a98",
   "metadata": {},
   "outputs": [
    {
     "data": {
      "text/plain": [
       "tensor([ 1.5124, -0.8763, -0.8880, -0.9078, -0.9102, -0.9158, -0.9339, -0.9400,\n",
       "        -0.9462, -0.9569])"
      ]
     },
     "execution_count": 275,
     "metadata": {},
     "output_type": "execute_result"
    }
   ],
   "source": [
    "torch.svd(V).S.pow(2) - 1"
   ]
  },
  {
   "cell_type": "code",
   "execution_count": null,
   "id": "c4d3e611-318d-4115-93d0-57a94133ecc5",
   "metadata": {},
   "outputs": [],
   "source": []
  }
 ],
 "metadata": {
  "kernelspec": {
   "display_name": "Python 3 (ipykernel)",
   "language": "python",
   "name": "python3"
  },
  "language_info": {
   "codemirror_mode": {
    "name": "ipython",
    "version": 3
   },
   "file_extension": ".py",
   "mimetype": "text/x-python",
   "name": "python",
   "nbconvert_exporter": "python",
   "pygments_lexer": "ipython3",
   "version": "3.10.6"
  }
 },
 "nbformat": 4,
 "nbformat_minor": 5
}
