{
 "cells": [
  {
   "cell_type": "code",
   "execution_count": 194,
   "id": "f7fac9cc-8aa4-4c35-942c-a0c89ef2d629",
   "metadata": {},
   "outputs": [],
   "source": [
    "import jax.numpy as np\n",
    "import jax.scipy as sp\n",
    "import jax\n",
    "from jax import jit, grad, vmap, value_and_grad\n",
    "from jax.example_libraries import optimizers\n",
    "\n",
    "# from tensorflow_probability.substrates import jax as tfp\n",
    "jax.default_device = jax.devices('cpu')[0]\n",
    "import matplotlib.pyplot as plt\n",
    "plt.style.use('dark_background')"
   ]
  },
  {
   "cell_type": "markdown",
   "id": "3e9991ac-fab4-4673-b117-4032075b7cd8",
   "metadata": {},
   "source": [
    "### The Idea\n",
    "\n",
    "In Bayesian statistics, we search for a posterior distribution of parameters:\n",
    "$$p(\\theta | D) = \\frac{p(D | \\theta)p(\\theta)}{p(D)} \\propto p(D | \\theta)p(\\theta)$$\n",
    "\n",
    "But, if the parameters represent a function, i.e., they are parameters of the function, maybe what we are looking for is the posterior probability over **functions**:\n",
    "\n",
    "$$p(f | D) = \\frac{p(D | f)p(f)}{p(D)} \\propto p(D | f)p(f)$$\n",
    "\n",
    "$$p(D | f) = p(X, Y | f) = p(Y | X, f)p(X | f) = p(Y | X, f)p(X)$$\n",
    "\n",
    "$$p(D) = p(X, Y) = p(Y | X)p(X) $$\n",
    "\n",
    "$$p(f | D) = \\frac{p(D | f)p(f)}{p(D)} = \\frac{p(Y | X, f)p(X)p(f)}{p(Y | X)p(X)} = \\frac{p(Y | X, f)p(f)}{p(Y | X)}$$\n",
    "\n",
    "$$\\mathbb{D}_{KL}[q(f | D) | p(f | D)] = -\\mathbb{E}_{f \\sim q}\\text{log}\\frac{p(f|D)}{q(f|D)} = -\\mathbb{E}_{f \\sim q}\\text{log}\\frac{p(Y | X, f)p(X | f)p(f)}{q(f|D)} = -\\mathbb{E}_{f \\sim q}\\text{log}p(Y | X, f) - \\mathbb{E}_{f \\sim q}\\text{log}\\frac{p(f)}{q(f|D)} + C$$\n",
    "\n",
    "$$\\mathbb{D}_{KL}[q(f | D) | p(f | D)] = -\\mathbb{E}_{f \\sim q}\\text{log}p(Y | X, f) + \\mathbb{D}_{KL}[q(f|D) | p(f)] + C $$\n",
    "\n",
    "$$\\mathbb{D}_{KL}[q(f | D) | p(f | D)] = -\\mathbb{E}_{f \\sim q}\\text{log}p(Y | X, f) + \\mathbb{H}[q(f|D), p(f)] - \\mathbb{H}[q(f|D)] + C $$\n",
    "\n",
    "The relative enropy $\\mathbb{H}[q(f|D), p(f)] = -\\mathbb{E}_{f \\sim q}\\text{log}p(f)$ is simple to calculate, since we can sample from $q$ and we choose our prior. Having a sampler, we can also easily evaluate the first term, the cross-entropy \"loss\". However, to calculate the second term, the entropy of $q$, we need the surrogate posterior $q$. The trick is to use the derivative of our sampler instead:\n",
    "\n",
    "$$\\text{log}\\frac{d}{dp}F^{-1}(p) = \\text{log}\\frac{1}{F'(F^{-1}(p))} = \\text{log}\\frac{1}{q(f|D)} = -\\text{log}q(f|D)$$\n",
    "since inverse of cdf $F^{-1}$ is a sampler (!!!) then $F^{-1}=f$ and $F'$ is density function, so $F'=q(\\cdot|D)$. Therefore, we can calculate the entropy of $q$ as follows:\n",
    "\n",
    "$$H(q) = -\\mathbb{E}_{f \\sim q}\\text{log}q(f | D)= -\\mathbb{E}_{p \\sim U}\\text{log}q(F^{-1}(p) | D) = \\mathbb{E}_{f \\sim q}\\text{log}\\frac{d}{dp}F^{-1}(p)$$\n",
    "\n",
    "where the $F^{-1}: p \\rightarrow (\\mathcal{X} \\rightarrow \\mathcal{Y}) $ returns a neural network, $\\mathcal{X}$ is input space, $\\mathcal{Y}$ is the output space, $F^{-1}(p) = f$ and $p \\sim U$ is the source of randomness.\n",
    "\n",
    "Niestety to pewnie nie działa, bo rzeczywiście $F^{-1}$ jest samplerem z dystrybucji, ale nie każdy sampler jest odwrotnością cdf. Ale będziemy próbować.\n"
   ]
  },
  {
   "cell_type": "markdown",
   "id": "a9a77d1c-2f06-46b2-8741-255e6b1856b6",
   "metadata": {},
   "source": [
    "Let the inner product of two functions on $X \\sim \\mathcal{X}$ be:\n",
    "$$\\langle f(X),\\;g(X)\\rangle \\triangleq \\mathbb{E}_{X \\sim \\mathcal{X}}(f(X)g(X))$$\n",
    "Now, we form a norm: \n",
    "$$||f|| \\triangleq \\sqrt{\\langle f(X),\\;f(X)\\rangle} = \\sqrt{\\mathbb{E}_{X \\sim \\mathcal{X}}f(X)^2}$$\n",
    "and the distance function:\n",
    "$$d(f,g) \\triangleq ||f - g|| = \\sqrt{\\mathbb{E}_{X \\sim \\mathcal{X}}(f(X) - g(X))^2} $$\n",
    "\n",
    "Przyjmijmy na chwilę, że przestrzeń do której należy X jest przestrzenią dyskretną i skończoną. Funkcję na tej przestrzeni można opisać za pomocą skończonego wektora liczb. Losowa funkcja to losowy wektor. Jak obliczyć gęstość wektora? Uwaga! Czy to, że przykładamy różną wagę do różnych miejsc ma znaczenie? \n",
    "\n",
    "Może można zrobić zmianę zmiennych? Co to jest CDF? To jest funkjca ze zmiennej losowej w $[0,1]$: \n",
    "$$H: \\mathcal{V} \\rightarrow [0,1]$$\n",
    "Jeżeli można ją zdefiniować jako:\n",
    "$$H(V) \\triangleq H_U(u(V)) $$\n",
    "Gdzie $H_U$ to CDF rozkładu jednostajnego i $u$ przekłada $V$ w przestrzeń, gdzie jest rozłożony jednostajnie. \n",
    "Oczywiście przekształcenie u musi w połączeniu z $H_U$ spełniać wymogi dystrybuanty, czyli złożenie musi być monotoniczne niemalejące.\n",
    "\n",
    "Teraz chcemy policzyć gęstość:\n",
    "$$\\rho(v) = \\frac{\\partial^n H_U(u(v))}{\\partial v_1 \\cdots \\partial v_n} = \\frac{\\partial^{n-1}}{\\partial v_1 \\cdots \\partial v_{n-1}}\\frac{\\partial H_U(u(v))}{\\partial v_n} = $$\n",
    "$$ = \\frac{\\partial^{n-1}}{\\partial v_1 \\cdots \\partial v_{n-1}}\\frac{\\partial H_U(u(v))}{\\partial u(v)}\\frac{\\partial u(v)}{\\partial v_n} $$\n",
    "\n",
    "Zaważmy, że sieć nieuronowa z aktywacjami relu jest piecewise-linear. Zatem problem możemy sprowadzić do:\n",
    "$$\\rho(v) = \\frac{\\partial^n H_U( Uv)}{\\partial v_1 \\cdots \\partial v_{n}} = \\frac{\\partial^n\n",
    "\\;(u_1^Tv \\cdot \\; \\cdots\\; \\cdot u_m^T v)}{\\partial v_1 \\cdots \\partial v_{n}} = \\sum_{I \\in [m]^m} \\prod_{i=1}^m u_{i, I_i}$$\n",
    "\n",
    "Dość złożona operacja. Co więcej, wynik równy jest zero, jeżeli wymiar u jest mniejszy od wymiaru v, a jest. Drugi problem trzeba rozwiązać rzutując liniowo funkcje na podprzestrzeń i licząc gęstość w tej przestrzeni (łatwiej powiedzieć, niż zrobić, ale jeżeli rzut zachowa odległości między funkcjami, to będzie działać). Jednak, nawet jak działamy na przestrzeni o wymiarze m, to jak to policzyć? Ostatecznie tych iloczynów jest $m^m$. Szczęśliwie da się szybko o tak:\n",
    "$$ \\sum_{I \\in [m]^m} \\prod_{i=1}^m u_{i, I_i} = \\sum_{i_1 \\in [m]}u_{1, i_1}\\sum_{i_2 \\in [m]}u_{2, i_m}\\cdots \\sum_{i_m \\in [m]}u_{m, i_m}$$\n",
    "\n",
    "Teraz więc pozostaje:\n",
    "* trenować sieć neuronową $m(u,x)$\n",
    "    * monotoniczną, rosnącą w u $m(u, \\cdot) \\nearrow$\n",
    "        * ograniczenie, że gradient jest dodatni + weryfikacja [link](https://proceedings.neurips.cc/paper/2020/file/b139aeda1c2914e3b579aafd3ceeb1bd-Paper.pdf)\n",
    "    * wyliczyć jakobian po u, $J \\in \\mathbb{R}^{\\text{n. obs.} \\times dim(u)} $\n",
    "    * odwrócić J, by otrzymać lokalne przekształcenie $F \\rightarrow U$, gdzie F to przestrzeń funkcji, czyli obserwacje.\n",
    "    * obliczyć log-gęstość: ```np.log(J^(-1).sum(axis=1)).sum()```\n",
    "    * zrobić to dla wszystkich u (czy u może być tylko jedno?)\n",
    "    * policzyć entropię czyli średnią z log gęstości itd.\n",
    "    * to znowu potem będzie zróżniczkowane przy robieniu stepu"
   ]
  },
  {
   "cell_type": "code",
   "execution_count": 195,
   "id": "9d0e6fd6-3f7f-4ad7-8c9c-50d7e15c8094",
   "metadata": {},
   "outputs": [],
   "source": [
    "key = jax.random.PRNGKey(15012023)\n",
    "U = jax.random.uniform(key,shape=(4,4))"
   ]
  },
  {
   "cell_type": "code",
   "execution_count": 196,
   "id": "40117097-1c6a-41a7-a0dd-b815a70c4333",
   "metadata": {},
   "outputs": [],
   "source": [
    "def all_products_fast(U):\n",
    "    return U.sum(axis=1).prod()\n",
    "\n",
    "def all_products_nojit(U):\n",
    "    print(\"all_products\")\n",
    "    if U.shape[0] == 0:\n",
    "        return 1\n",
    "    s = 0\n",
    "    a = all_products_nojit(U[1:, :])\n",
    "    for i in range(U.shape[1]):\n",
    "        s += U[0, i] * a\n",
    "    return s\n",
    "    "
   ]
  },
  {
   "cell_type": "code",
   "execution_count": 197,
   "id": "9f38f9ef-ce68-4c51-9874-79bf284e0e9a",
   "metadata": {},
   "outputs": [
    {
     "data": {
      "text/plain": [
       "Array(9.742926, dtype=float32)"
      ]
     },
     "execution_count": 197,
     "metadata": {},
     "output_type": "execute_result"
    }
   ],
   "source": [
    "all_products_fast(U)"
   ]
  },
  {
   "cell_type": "code",
   "execution_count": 198,
   "id": "5bc524a2-28a7-4dad-a47f-7045a2ceac81",
   "metadata": {},
   "outputs": [],
   "source": [
    "def all_products_slow_nojit(U):\n",
    "    s = 0\n",
    "    n = 4\n",
    "    for a0 in range(n):\n",
    "        for a1 in range(n):\n",
    "            for a2 in range(n):\n",
    "                for a3 in range(n):\n",
    "                    # for a4 in range(n):\n",
    "                        p = 1\n",
    "                        a = [a0, a1, a2, a3] #, a4]\n",
    "                        for i in range(n):\n",
    "                            p *= U[i, a[i]]\n",
    "                        s += p\n",
    "    return s"
   ]
  },
  {
   "cell_type": "code",
   "execution_count": 199,
   "id": "86e4066c-a938-469a-8935-d5f6f873feec",
   "metadata": {},
   "outputs": [],
   "source": [
    "# all_products_slow_nojit(U)"
   ]
  },
  {
   "cell_type": "markdown",
   "id": "941fd290-2c32-4326-8a6c-be408191528c",
   "metadata": {},
   "source": [
    "# Derivative of inverse\n"
   ]
  },
  {
   "cell_type": "code",
   "execution_count": 200,
   "id": "6486de3c-e889-4a5a-90d6-026d44cb969e",
   "metadata": {},
   "outputs": [],
   "source": [
    "key = jax.random.PRNGKey(15012023)\n",
    "U = jax.random.uniform(key, shape=(100, 100))\n",
    "Q = U @ U + np.diag(np.ones(100))\n",
    "x = jax.random.uniform(key, shape=(Q.shape[0], ))"
   ]
  },
  {
   "cell_type": "code",
   "execution_count": 201,
   "id": "8e883c18-dfda-413b-984a-98c284364dc0",
   "metadata": {},
   "outputs": [],
   "source": [
    "f = lambda Q: np.linalg.solve(Q, x).sum()"
   ]
  },
  {
   "cell_type": "code",
   "execution_count": 202,
   "id": "7fd4851c-4f8b-4dd7-a403-ed43115a0c50",
   "metadata": {},
   "outputs": [],
   "source": [
    "df = grad(f)"
   ]
  },
  {
   "cell_type": "code",
   "execution_count": 203,
   "id": "126407cd-c192-43f4-b327-19746ca3b751",
   "metadata": {},
   "outputs": [
    {
     "data": {
      "text/plain": [
       "Array([[ 2.6098252e-03, -6.1568210e-04, -1.1268011e-03, ...,\n",
       "         4.3408955e-03, -3.1202272e-04, -5.0191917e-03],\n",
       "       [ 4.2571206e-02, -1.0042944e-02, -1.8380266e-02, ...,\n",
       "         7.0808247e-02, -5.0896830e-03, -8.1872545e-02],\n",
       "       [-2.1556908e-02,  5.0854753e-03,  9.3072699e-03, ...,\n",
       "        -3.5855383e-02,  2.5772781e-03,  4.1458044e-02],\n",
       "       ...,\n",
       "       [ 1.3277444e-01, -3.1322729e-02, -5.7325833e-02, ...,\n",
       "         2.2084239e-01, -1.5874106e-02, -2.5535059e-01],\n",
       "       [-1.7504665e-01,  4.1295137e-02,  7.5577006e-02, ...,\n",
       "        -2.9115331e-01,  2.0928042e-02,  3.3664811e-01],\n",
       "       [-4.9068205e-02,  1.1575647e-02,  2.1185370e-02, ...,\n",
       "        -8.1614643e-02,  5.8664447e-03,  9.4367519e-02]], dtype=float32)"
      ]
     },
     "execution_count": 203,
     "metadata": {},
     "output_type": "execute_result"
    }
   ],
   "source": [
    "df(Q)"
   ]
  },
  {
   "cell_type": "markdown",
   "id": "4cbfdee3-d0fc-44ec-b790-fcf3d98fd7ac",
   "metadata": {},
   "source": [
    "# Derivative of Derivative"
   ]
  },
  {
   "cell_type": "code",
   "execution_count": 204,
   "id": "3e260d5f-376b-4a94-a4e7-8bbbea9f90ab",
   "metadata": {},
   "outputs": [],
   "source": [
    "x = jax.random.uniform(key, shape=(200,))\n",
    "u = jax.random.uniform(key, shape=(200,200))\n",
    "u = u.T @ u\n",
    "g = lambda x: np.log(grad(lambda u: np.sum(np.linalg.solve(u, x)))(u).sum(axis=1)).sum()"
   ]
  },
  {
   "cell_type": "code",
   "execution_count": 205,
   "id": "61ef89fc-2a61-41fd-8f3e-fd883906842e",
   "metadata": {},
   "outputs": [
    {
     "data": {
      "text/plain": [
       "Array([ -43.022575 ,  -43.560986 ,  -20.325699 ,  -48.14516  ,\n",
       "        118.12738  ,   19.84176  ,   25.579767 ,  -28.101702 ,\n",
       "         11.254526 ,   63.557484 ,   65.537544 ,   23.316496 ,\n",
       "          8.200866 ,   39.59517  ,    5.1763077,   34.488056 ,\n",
       "         98.67574  ,   73.04928  ,  -10.471031 ,   40.687145 ,\n",
       "         40.57914  ,   71.82271  ,  -69.16681  ,  -15.228674 ,\n",
       "         28.204779 ,  -29.45844  ,  -46.0767   , -117.12077  ,\n",
       "         36.830635 ,   51.148834 ,  -39.593765 ,  -20.072021 ,\n",
       "         47.654022 ,  -21.741655 ,   23.981617 ,  -20.07226  ,\n",
       "        -83.97421  ,   59.13527  ,   -4.561313 ,   79.228264 ,\n",
       "         47.999252 ,   -6.372904 ,   -9.4932995,  -29.479332 ,\n",
       "          4.7690578,  -58.896587 ,  -44.084915 ,  -71.88995  ,\n",
       "         95.2627   ,   31.161299 ,   84.968414 ,    2.048789 ,\n",
       "          4.1211014,  -50.8563   ,  -25.393896 ,   42.066624 ,\n",
       "        -66.05127  ,  -47.492085 ,  -37.01913  ,   36.695763 ,\n",
       "         16.825932 ,   27.319866 ,    3.4768786,   87.91365  ,\n",
       "         40.59554  ,  -33.571903 ,   13.031606 ,   23.678934 ,\n",
       "        -45.16225  ,  -10.554623 ,    7.7430935,   11.969117 ,\n",
       "         10.818273 ,   42.935253 ,   29.799805 ,   28.366972 ,\n",
       "        -16.731693 ,    4.4533973,  -31.222332 ,   -9.98361  ,\n",
       "         37.893673 ,   20.137636 ,   30.135174 ,  -15.186368 ,\n",
       "        -73.43365  ,  -14.412711 ,  -21.709358 ,  -44.9147   ,\n",
       "         25.685066 ,  -75.281296 ,  -43.130936 ,  -71.33409  ,\n",
       "         37.590355 ,    8.980342 ,  -63.08428  ,    2.5310404,\n",
       "        -11.111519 ,  -29.441566 ,  122.03726  ,   -7.8363976,\n",
       "          7.151041 ,  -62.9915   ,   14.994622 ,   60.030884 ,\n",
       "        -16.605423 ,  -77.31893  ,  -41.974094 ,   38.18112  ,\n",
       "         21.404799 ,  -36.974285 ,   29.247171 ,  -37.749195 ,\n",
       "         19.478827 ,   -2.9741356,  -33.270622 ,   70.92938  ,\n",
       "        135.53787  ,   -7.558274 ,  -48.047268 ,   -4.1240478,\n",
       "        -27.572758 ,  -34.574154 ,   11.009445 ,   15.589042 ,\n",
       "        -29.060917 ,   53.540863 ,  145.11108  ,  -53.865902 ,\n",
       "        -26.524603 ,   63.092567 ,   79.70967  ,  -58.252537 ,\n",
       "         23.281382 ,   30.16963  ,   22.852772 ,   46.645264 ,\n",
       "        -34.20547  ,   45.49289  ,  -29.631433 ,    6.0555873,\n",
       "         67.34491  ,  -20.165058 ,   20.56092  ,  -66.29059  ,\n",
       "        -91.98239  ,  -83.23824  ,   20.52993  ,  -12.095485 ,\n",
       "          9.139959 ,  -11.972036 ,  -59.39668  ,   24.712048 ,\n",
       "         52.583324 ,   30.658321 ,  -71.26823  ,  -41.366108 ,\n",
       "        -20.899908 ,   44.697582 ,  -33.14574  ,   44.04488  ,\n",
       "        -56.298397 ,  -67.04568  ,   40.057323 ,   12.193177 ,\n",
       "        -33.324078 ,  -69.46921  ,  -40.356552 ,   19.731466 ,\n",
       "         57.244507 ,   34.51686  ,   36.83088  ,  -59.298893 ,\n",
       "          4.09743  ,  -28.100204 ,  -20.201124 , -135.58858  ,\n",
       "        -98.24886  ,  -19.56619  ,  -46.451126 ,  -22.582493 ,\n",
       "         27.146366 ,   65.66806  ,  -10.123455 ,   -7.0977454,\n",
       "        -74.8159   ,   -2.7732913,  -54.198574 ,   77.4555   ,\n",
       "        -48.891117 ,   59.77318  ,  -20.892693 ,  109.27037  ,\n",
       "         36.418503 ,  -57.811222 ,  -31.823023 ,   -1.22063  ,\n",
       "         -7.045024 ,  -25.192797 ,   23.559448 ,   20.422213 ],      dtype=float32)"
      ]
     },
     "execution_count": 205,
     "metadata": {},
     "output_type": "execute_result"
    }
   ],
   "source": [
    "grad(g)(x) # działa"
   ]
  },
  {
   "cell_type": "code",
   "execution_count": null,
   "id": "ebcd10dc-764f-46ab-84a8-eed4ba43d888",
   "metadata": {},
   "outputs": [],
   "source": []
  },
  {
   "cell_type": "code",
   "execution_count": null,
   "id": "b1464939-3dca-4a69-bff6-2418add6eebf",
   "metadata": {},
   "outputs": [],
   "source": []
  },
  {
   "cell_type": "code",
   "execution_count": null,
   "id": "567e5b59-8bff-4cf8-b673-1ebca24e5b10",
   "metadata": {},
   "outputs": [],
   "source": []
  },
  {
   "cell_type": "code",
   "execution_count": null,
   "id": "e290b257-e0d4-4132-b0f0-968638bd752d",
   "metadata": {},
   "outputs": [],
   "source": []
  },
  {
   "cell_type": "code",
   "execution_count": null,
   "id": "ca177332-1190-42d6-8d4a-108712ecc6b6",
   "metadata": {},
   "outputs": [],
   "source": [
    "v = np.linspace(0,1,1002)[1:-1]"
   ]
  },
  {
   "cell_type": "code",
   "execution_count": 105,
   "id": "fe10abc6-ddf3-488b-aca6-e6720269e10d",
   "metadata": {},
   "outputs": [],
   "source": [
    "def f(p):\n",
    "    return np.where(p < 0.5, 2*p, 2-2*p)\n",
    "def g(p):\n",
    "    p3 = 3*p\n",
    "    return np.where(p3 < 1, p3, np.where(p3 < 2, 2-p3, p3-2))"
   ]
  },
  {
   "cell_type": "code",
   "execution_count": 41,
   "id": "b1f01db2-87f9-44fb-80be-8804aff9b33b",
   "metadata": {},
   "outputs": [
    {
     "data": {
      "text/plain": [
       "[<matplotlib.lines.Line2D at 0x7f0d3844e440>]"
      ]
     },
     "execution_count": 41,
     "metadata": {},
     "output_type": "execute_result"
    },
    {
     "data": {
      "image/png": "[encoded data removed]",
      "text/plain": [
       "<Figure size 640x480 with 1 Axes>"
      ]
     },
     "metadata": {},
     "output_type": "display_data"
    }
   ],
   "source": [
    "plt.plot(v, vmap(g)(v))"
   ]
  },
  {
   "cell_type": "code",
   "execution_count": 49,
   "id": "3ff35063-68fd-4c6e-95b6-e137ad8d484f",
   "metadata": {},
   "outputs": [
    {
     "data": {
      "text/plain": [
       "Array(0.6931473, dtype=float32)"
      ]
     },
     "execution_count": 49,
     "metadata": {},
     "output_type": "execute_result"
    }
   ],
   "source": [
    "np.log(np.abs(vmap(grad(f))(v))).mean()"
   ]
  },
  {
   "cell_type": "code",
   "execution_count": 56,
   "id": "5b00d74e-7cf3-4c63-8481-8472ad087623",
   "metadata": {},
   "outputs": [],
   "source": [
    "vals, grads = vmap(value_and_grad(f))(v)"
   ]
  },
  {
   "cell_type": "code",
   "execution_count": null,
   "id": "3ce7d33e-73d4-488d-820f-8773aedbdde4",
   "metadata": {},
   "outputs": [],
   "source": []
  },
  {
   "cell_type": "code",
   "execution_count": 87,
   "id": "56545ebe-e48c-4e49-91c2-6c53ef8c21cc",
   "metadata": {},
   "outputs": [
    {
     "data": {
      "text/plain": [
       "(array([778.,  36.,  24.,  20.,  18.,  16.,  16.,  18.,  22.,  52.]),\n",
       " array([1.88324410e-22, 3.98942307e-02, 7.97884613e-02, 1.19682685e-01,\n",
       "        1.59576923e-01, 1.99471146e-01, 2.39365369e-01, 2.79259592e-01,\n",
       "        3.19153845e-01, 3.59048069e-01, 3.98942292e-01]),\n",
       " <BarContainer object of 10 artists>)"
      ]
     },
     "execution_count": 87,
     "metadata": {},
     "output_type": "execute_result"
    },
    {
     "data": {
      "image/png": "[encoded data removed]",
      "text/plain": [
       "<Figure size 640x480 with 1 Axes>"
      ]
     },
     "metadata": {},
     "output_type": "display_data"
    }
   ],
   "source": [
    "plt.hist(sp.stats.norm.pdf(10*np.abs(vals - vals[:, np.newaxis])[3, :]))"
   ]
  },
  {
   "cell_type": "code",
   "execution_count": 166,
   "id": "3b77a915-ad99-47d1-82c4-ba847b8b71af",
   "metadata": {},
   "outputs": [],
   "source": [
    "def empirical_cdf(v, g=100):\n",
    "    s = np.sort(v)\n",
    "    l = np.linspace(0,1,s.shape[0])\n",
    "    def ecdf(x):\n",
    "        w = sp.stats.norm.pdf(g*(x-s))\n",
    "        return np.sum(l * w / np.sum(w))\n",
    "    return ecdf"
   ]
  },
  {
   "cell_type": "code",
   "execution_count": 167,
   "id": "14213f46-60d4-4f5e-992a-1ee36a8b6fdc",
   "metadata": {},
   "outputs": [],
   "source": [
    "key = jax.random.PRNGKey(13012023)\n",
    "ecdf = empirical_cdf(jax.random.normal(key, shape=(1000,)))"
   ]
  },
  {
   "cell_type": "code",
   "execution_count": 168,
   "id": "82f5edb7-2434-4e65-b2f8-2447914f7015",
   "metadata": {},
   "outputs": [
    {
     "data": {
      "text/plain": [
       "[<matplotlib.lines.Line2D at 0x7f0ca7a3d1e0>]"
      ]
     },
     "execution_count": 168,
     "metadata": {},
     "output_type": "execute_result"
    },
    {
     "data": {
      "image/png": "[encoded data removed]",
      "text/plain": [
       "<Figure size 640x480 with 1 Axes>"
      ]
     },
     "metadata": {},
     "output_type": "display_data"
    }
   ],
   "source": [
    "l = np.linspace(-3,3,100)\n",
    "plt.plot(l, vmap(ecdf)(l))"
   ]
  },
  {
   "cell_type": "code",
   "execution_count": null,
   "id": "44a7b83b-5beb-4216-917d-3ec53f60921c",
   "metadata": {},
   "outputs": [],
   "source": []
  },
  {
   "cell_type": "code",
   "execution_count": 244,
   "id": "3d4e2491-156b-44c0-a8f7-ac9065e1d192",
   "metadata": {},
   "outputs": [],
   "source": [
    "def gcdf(f, us, g=100):\n",
    "    gfs = np.abs(vmap(grad(f))(us))\n",
    "    def temp(x):\n",
    "        # w = sp.stats.norm.pdf(g*(x-us))\n",
    "        w = sp.stats.uniform.pdf(g*(x-us), loc=-0.5, scale=1)\n",
    "        return  #np.sum( (1 / gfs) * w / np.sum(w)) \n",
    "    return temp"
   ]
  },
  {
   "cell_type": "code",
   "execution_count": null,
   "id": "26f3aedc-43c3-4d0c-b221-0151dd5a3b81",
   "metadata": {},
   "outputs": [],
   "source": []
  },
  {
   "cell_type": "code",
   "execution_count": 245,
   "id": "1fe39a3b-b5f2-44fe-97db-bbdd90c10b9d",
   "metadata": {},
   "outputs": [],
   "source": [
    "us = jax.random.uniform(key, shape=(100000,))\n",
    "fs = vmap(f)(us)\n",
    "gs = vmap(g)(us)"
   ]
  },
  {
   "cell_type": "code",
   "execution_count": 246,
   "id": "42657542-7a08-41b1-9cd4-4f2eeb3ec00f",
   "metadata": {},
   "outputs": [
    {
     "data": {
      "text/plain": [
       "[<matplotlib.lines.Line2D at 0x7f0caba9e560>]"
      ]
     },
     "execution_count": 246,
     "metadata": {},
     "output_type": "execute_result"
    },
    {
     "data": {
      "image/png": "[encoded data removed]",
      "text/plain": [
       "<Figure size 640x480 with 1 Axes>"
      ]
     },
     "metadata": {},
     "output_type": "display_data"
    }
   ],
   "source": [
    "l = np.linspace(-3,3,1000)\n",
    "plt.plot(l, vmap(empirical_cdf(fs))(l))\n",
    "plt.plot(l, vmap(empirical_cdf(gs))(l))"
   ]
  },
  {
   "cell_type": "code",
   "execution_count": 247,
   "id": "b11d4a8f-ce3e-4edc-9f2e-3b2fc7b5ac75",
   "metadata": {},
   "outputs": [
    {
     "data": {
      "text/plain": [
       "[<matplotlib.lines.Line2D at 0x7f0cabaf7c10>]"
      ]
     },
     "execution_count": 247,
     "metadata": {},
     "output_type": "execute_result"
    },
    {
     "data": {
      "image/png": "[encoded data removed]",
      "text/plain": [
       "<Figure size 640x480 with 1 Axes>"
      ]
     },
     "metadata": {},
     "output_type": "display_data"
    }
   ],
   "source": [
    "l = np.linspace(-1,2,1000)\n",
    "plt.plot(l, vmap(grad(empirical_cdf(fs)))(l))\n",
    "plt.plot(l, vmap(grad(empirical_cdf(gs)))(l))\n",
    "plt.plot(l, vmap(gcdf(f, us))(l))\n",
    "plt.plot(l, vmap(gcdf(g, us))(l))"
   ]
  },
  {
   "cell_type": "code",
   "execution_count": null,
   "id": "a0e5b52f-8029-4fe7-9fed-1a20af253006",
   "metadata": {},
   "outputs": [],
   "source": []
  },
  {
   "cell_type": "code",
   "execution_count": null,
   "id": "b912e561-24f2-41e0-8580-699bd3b75fa3",
   "metadata": {},
   "outputs": [],
   "source": []
  },
  {
   "cell_type": "code",
   "execution_count": 90,
   "id": "07e696e9-eb8d-4bb0-970f-cc2e4e730717",
   "metadata": {},
   "outputs": [],
   "source": [
    "w = sp.stats.norm.pdf(10*np.abs(vals - vals[:, np.newaxis]))"
   ]
  },
  {
   "cell_type": "code",
   "execution_count": null,
   "id": "b408f83e-9012-43bd-8d2e-78a45b34278b",
   "metadata": {},
   "outputs": [],
   "source": []
  },
  {
   "cell_type": "markdown",
   "id": "d6c92779-1e4b-489f-b5a2-214dd760a738",
   "metadata": {},
   "source": [
    "# Implementation of a Neural Network"
   ]
  },
  {
   "cell_type": "code",
   "execution_count": 206,
   "id": "eebb956b-420b-4d3e-9603-ee159c461165",
   "metadata": {},
   "outputs": [],
   "source": [
    "def bforward(params, X):\n",
    "    nn, U = params\n",
    "    X = np.c_[X, U]\n",
    "    for i, (W, b) in enumerate(nn):\n",
    "        A = jax.nn.relu if i != len(nn)-1 else (lambda x: x)\n",
    "        X = A(X @ W + b)\n",
    "    return X\n",
    "\n",
    "def init_nn(key, inout, last_af=lambda x: x):\n",
    "    return [(jax.random.normal(key, shape=(inout[i], inout[i+1])),\n",
    "             jax.random.normal(key, shape=(inout[i+1], ))) for i, key in enumerate(jax.random.split(key, len(inout)-1))]\n",
    "        "
   ]
  },
  {
   "cell_type": "code",
   "execution_count": 186,
   "id": "e3abedae-216a-4296-9ff6-a24c6a6f0608",
   "metadata": {},
   "outputs": [],
   "source": [
    "keys = jax.random.split(jax.random.PRNGKey(15012023), 10)"
   ]
  },
  {
   "cell_type": "code",
   "execution_count": 187,
   "id": "9d6746a8-9b98-48a0-b1e3-e46101665043",
   "metadata": {},
   "outputs": [
    {
     "data": {
      "text/plain": [
       "<matplotlib.collections.PathCollection at 0x7f89eb9e21a0>"
      ]
     },
     "execution_count": 187,
     "metadata": {},
     "output_type": "execute_result"
    },
    {
     "data": {
      "image/png": "[encoded data removed]",
      "text/plain": [
       "<Figure size 640x480 with 1 Axes>"
      ]
     },
     "metadata": {},
     "output_type": "display_data"
    }
   ],
   "source": [
    "X = jax.random.normal(keys[5], shape=(32,1))\n",
    "Y = 3*X + 2*jax.random.normal(keys[6], shape=(32,1))*X\n",
    "plt.scatter(X, Y)"
   ]
  },
  {
   "cell_type": "code",
   "execution_count": 188,
   "id": "a56db544-49b7-4124-8a3a-eda65cda292f",
   "metadata": {},
   "outputs": [],
   "source": [
    "nn = init_nn(keys[1], [4,64,64,1])"
   ]
  },
  {
   "cell_type": "code",
   "execution_count": 190,
   "id": "f4d73649-7570-4315-9a4a-ce1d723ffc32",
   "metadata": {},
   "outputs": [],
   "source": [
    "bforw = lambda params: bforward(params, X)"
   ]
  },
  {
   "cell_type": "code",
   "execution_count": 191,
   "id": "a47767ad-ed34-441d-926b-4ebb96c9b001",
   "metadata": {},
   "outputs": [],
   "source": [
    "key = keys[-1]"
   ]
  },
  {
   "cell_type": "code",
   "execution_count": null,
   "id": "0478ccd0-744e-4aff-a041-070fab318689",
   "metadata": {},
   "outputs": [],
   "source": [
    "EPOCHS=100\n",
    "for e in trange(EPOCHS):\n",
    "    "
   ]
  },
  {
   "cell_type": "code",
   "execution_count": 193,
   "id": "0facb679-d431-44e8-b1c8-f39671460e3f",
   "metadata": {},
   "outputs": [
    {
     "data": {
      "text/plain": [
       "([(Array([[ 2.73030071e+01,  5.14737282e+01, -4.01809311e+00,\n",
       "            1.05265932e+01, -1.72422752e+01,  3.40224915e+01,\n",
       "           -3.05665817e+01, -5.15468216e+00,  6.34067917e+00,\n",
       "            5.79709663e+01, -1.38037624e+01,  1.21288109e+01,\n",
       "           -1.11757479e+01,  4.89948845e+01,  3.72454567e+01,\n",
       "            2.93849907e+01,  1.14242420e+01,  3.84467964e+01,\n",
       "            6.54880285e-01, -4.81892738e+01,  3.60238724e+01,\n",
       "           -2.56973705e+01,  9.45003319e+00,  8.54609451e+01,\n",
       "           -2.63938427e+01, -1.16611490e+01,  7.69975758e+00,\n",
       "           -3.24346089e+00, -2.46653061e+01,  6.07273245e+00,\n",
       "            5.08344889e+00,  7.44422913e+01, -3.93371162e+01,\n",
       "           -5.20995255e+01,  2.55486984e+01, -4.06080132e+01,\n",
       "           -1.23265686e+01,  2.24692512e+00, -1.93085060e+01,\n",
       "            2.27666235e+00,  4.48420219e+01, -1.23366251e+01,\n",
       "            1.37881336e+01, -2.36728382e+01, -1.36827459e+01,\n",
       "            1.04917564e+01, -6.26816130e+00, -1.74953079e+01,\n",
       "           -4.12339973e+01,  3.88748016e+01, -1.19251795e+01,\n",
       "           -1.37470589e+01,  4.94979553e+01, -3.42834129e+01,\n",
       "            2.28440418e+01,  3.09470425e+01, -1.52822266e+01,\n",
       "           -3.42323914e+01,  1.61117649e+01,  6.73183746e+01,\n",
       "            5.73383760e+00,  3.90912590e+01, -3.10824108e+01,\n",
       "            6.86262321e+00],\n",
       "          [-1.49716883e+01,  2.23073177e+01,  4.16573830e+01,\n",
       "           -8.19346666e-01,  1.81784420e+01, -2.12923870e+01,\n",
       "            1.04251595e+01,  1.09355764e+01, -5.50439835e+01,\n",
       "           -6.77907181e+01, -8.76394653e+00,  1.05529871e+01,\n",
       "            1.28136110e+01,  3.25368080e+01, -3.89434166e+01,\n",
       "           -6.94553232e+00,  1.85700607e+01,  1.01000462e+01,\n",
       "            2.32791138e+00, -9.61379242e+00, -5.54161224e+01,\n",
       "           -7.23430777e+00, -1.08987370e+01, -1.05519333e+02,\n",
       "            1.14211092e+01, -6.35456944e+00,  1.97232321e-01,\n",
       "            1.13135405e+01,  1.01955128e+01, -1.79289894e+01,\n",
       "           -2.45778065e+01, -4.89807749e+00,  4.06631737e+01,\n",
       "            1.58143625e+01, -2.98508511e+01,  7.86921787e+00,\n",
       "            2.76442075e+00, -2.89700794e+01,  5.74169998e+01,\n",
       "           -1.29127178e+01, -5.35211372e+01,  1.82667160e+01,\n",
       "            9.01528549e+00,  3.31859550e+01,  5.08611794e+01,\n",
       "           -1.80186880e+00, -8.14369125e+01, -2.98577309e+01,\n",
       "            2.17953186e+01, -1.30797062e+01, -2.29257655e+00,\n",
       "            5.07940674e+01,  1.37206020e+01,  3.23704567e+01,\n",
       "            9.59680367e+00,  2.26718502e+01,  3.62665677e+00,\n",
       "           -5.46167850e+00, -5.47314034e+01, -1.31890726e+01,\n",
       "           -6.76290607e+00, -2.76576672e+01, -1.89431744e+01,\n",
       "           -1.90847301e+01],\n",
       "          [-1.28015983e+00,  3.67291298e+01,  5.56443863e+01,\n",
       "           -2.52558346e+01, -6.31483173e+00, -7.59845114e+00,\n",
       "           -2.71683178e+01,  5.28469992e+00, -9.28625584e+00,\n",
       "            7.80477371e+01,  3.81042743e+00, -1.15993719e+01,\n",
       "            1.77894688e+01, -1.02010527e+01, -3.05937138e+01,\n",
       "           -2.30659695e+01,  2.13230476e+01, -3.00534210e+01,\n",
       "           -1.00904598e+01, -1.09546919e+01,  5.67069588e+01,\n",
       "            1.99737949e+01, -5.13898134e-01,  9.36819935e+00,\n",
       "            1.36222725e+01, -6.50313139e+00,  1.10137653e+01,\n",
       "           -1.87515335e+01,  8.57903194e+00,  2.90867939e+01,\n",
       "            4.30501413e+00,  5.64830933e+01,  4.23540077e+01,\n",
       "            4.19380646e+01,  7.29344559e+01,  8.07456684e+00,\n",
       "            8.47786522e+00, -5.72306931e-01,  2.07316723e+01,\n",
       "            2.86327591e+01, -1.06609087e+01,  4.36596260e+01,\n",
       "           -1.05465050e+01, -3.92285609e+00,  5.35647202e+01,\n",
       "            1.76152439e+01, -8.46135044e+00, -3.22048492e+01,\n",
       "           -7.45723867e+00, -1.98955212e+01,  2.59858584e+00,\n",
       "            1.27334270e+01, -2.44950504e+01,  1.89255011e+00,\n",
       "            2.12374306e+00,  3.86636496e+00,  1.55192890e+01,\n",
       "            4.55942583e+00, -8.45450783e+00, -1.40192556e+01,\n",
       "            1.42625546e+00, -2.30644455e+01, -4.04590263e+01,\n",
       "            6.85005112e+01],\n",
       "          [ 2.69036222e+00, -2.01404047e+00, -9.93749332e+00,\n",
       "           -1.96421032e+01,  1.85214691e+01, -1.65646195e+00,\n",
       "            8.76288319e+00,  1.65706992e+00, -4.98616171e+00,\n",
       "           -3.65710449e+01,  7.36347079e-01, -2.58963752e+00,\n",
       "            8.30267239e+00, -1.60855923e+01, -4.31196070e+00,\n",
       "           -4.09775400e+00,  2.04808598e+01, -1.19254713e+01,\n",
       "           -1.14493103e+01,  1.27750893e+01, -4.68510628e+00,\n",
       "           -1.26786499e+01,  1.86776161e+01, -1.08950377e+01,\n",
       "            2.47350845e+01, -2.04268456e+00, -1.80822506e+01,\n",
       "            2.55990658e+01,  2.36851902e+01, -6.81193113e-01,\n",
       "           -4.16891247e-01, -9.76794910e+00, -7.19918489e-01,\n",
       "            1.70516777e+01, -5.97813072e+01, -8.97418308e+00,\n",
       "           -9.55618441e-01,  1.22913132e+01, -1.76871071e+01,\n",
       "           -1.27137861e+01,  1.34484177e+01, -2.88241367e+01,\n",
       "            5.68118356e-02,  3.46427994e+01,  1.09244337e+01,\n",
       "            9.23102736e-01, -2.43747890e-01,  4.03148079e+01,\n",
       "            9.28496075e+00,  1.63106704e+00, -8.18162382e-01,\n",
       "            3.44177780e+01, -1.00224409e+01, -1.19360647e+01,\n",
       "           -2.99057007e+01, -1.42478456e+01, -9.62731361e+00,\n",
       "            2.49794984e+00,  1.10115452e+01, -6.73543596e+00,\n",
       "           -3.70216519e-01,  2.28363781e+01,  2.77550182e+01,\n",
       "           -1.88112068e+01]], dtype=float32),\n",
       "   Array([  31.11433  ,  -90.45676  ,  -86.36609  ,  -63.503105 ,\n",
       "            36.476437 ,  -29.86729  ,   55.65697  ,   -6.2843533,\n",
       "            41.560463 , -180.4188   ,    8.495124 ,  -16.619148 ,\n",
       "           -10.726763 , -100.875206 ,  -53.721947 ,  -26.36213  ,\n",
       "            -2.909501 ,  -42.003258 ,  -15.0767975,  -52.736458 ,\n",
       "          -215.78354  ,  -48.59832  ,   32.378166 , -260.19543  ,\n",
       "           -78.43884  ,   -2.0060258,  -14.9320545,   -0.937747 ,\n",
       "           -12.629112 ,    7.197464 ,  -65.83031  ,   44.910122 ,\n",
       "            60.138737 , -204.77422  ,  151.84192  ,  -69.60371  ,\n",
       "             2.77205  ,  -31.62216  ,   67.32557  ,   34.366753 ,\n",
       "           -45.75354  ,   44.238373 ,  -10.00731  ,  101.84621  ,\n",
       "           137.5984   ,   15.518405 ,  -89.834785 ,   73.86388  ,\n",
       "           -56.371895 ,  -39.86713  ,    3.267353 ,   91.26773  ,\n",
       "           -71.348465 ,   -1.6797557,   78.40332  ,  -39.785847 ,\n",
       "           -28.635042 ,   31.18164  ,  -34.442814 ,  -68.09831  ,\n",
       "             5.170764 ,   91.480865 , -133.2635   ,   48.571228 ],      dtype=float32)),\n",
       "  (Array([[ 1.9098394e+00, -3.2336304e-01,  0.0000000e+00, ...,\n",
       "            2.4450278e+00, -1.7620497e-03, -4.4995129e-01],\n",
       "          [ 1.8741896e+01, -8.9345913e+00,  1.7711776e+00, ...,\n",
       "            5.9893088e+00, -4.3797702e-02, -6.2099152e+00],\n",
       "          [ 8.7893867e+00, -3.5186901e+00,  0.0000000e+00, ...,\n",
       "            3.1635702e+00, -9.0941479e-03, -4.5438576e-01],\n",
       "          ...,\n",
       "          [ 1.7625124e+01, -5.7798581e+00,  1.3241163e-01, ...,\n",
       "            1.1554459e+01, -1.8109595e-02, -3.0653605e+00],\n",
       "          [ 6.1385086e+01, -3.3387461e+00,  3.6792789e+00, ...,\n",
       "            3.4262203e+01, -1.7482301e-02, -1.9683372e+01],\n",
       "          [ 1.3359994e+00, -3.1868573e-02,  3.7665811e-01, ...,\n",
       "            8.7336034e-01, -2.4234332e-04, -5.9903288e-01]], dtype=float32),\n",
       "   Array([ 2.9472057e+01, -1.0098785e+01,  1.4587106e+00,  3.1897025e+00,\n",
       "           0.0000000e+00, -3.6806019e+01,  2.0847326e+01,  0.0000000e+00,\n",
       "           0.0000000e+00, -1.8422487e+00,  1.0593842e+01, -1.7329739e+01,\n",
       "           1.8270907e-01,  2.4263653e+01,  2.8373513e+00,  0.0000000e+00,\n",
       "          -1.4560000e+01,  3.8805761e+00, -7.3050051e+00,  9.2972298e+00,\n",
       "          -3.5341480e+01,  5.7337213e+00, -7.8695440e+00,  2.6951883e+00,\n",
       "          -3.0869088e+00, -7.5064594e-01,  2.4435108e+01, -1.6360416e+01,\n",
       "          -2.3554001e+01, -1.1990203e+00,  5.2287955e+00, -1.0633767e+01,\n",
       "           6.7415416e-01,  1.4744297e+01, -7.0828686e+00, -9.4531527e+00,\n",
       "          -1.3907066e+01, -7.1629863e+00, -1.2976204e+01, -7.6236711e+00,\n",
       "          -1.3207755e+00, -2.5429428e+01,  3.2651625e+00, -1.8305360e+00,\n",
       "          -1.3462427e+01, -8.2389611e-01, -2.9223660e+01, -4.3135405e+00,\n",
       "          -1.2789694e+01,  1.1910065e+01, -4.2488888e+01,  5.4144718e+01,\n",
       "           8.4048195e+00,  1.3713942e+00, -8.9988441e+00,  2.8440155e+01,\n",
       "          -3.9311012e+01, -1.3224773e+01, -1.8231152e+01, -7.5340791e+00,\n",
       "          -4.0397835e+00,  1.4679065e+01, -4.5174010e-02, -1.0068287e+01],      dtype=float32)),\n",
       "  (Array([[133.24818  ],\n",
       "          [166.26462  ],\n",
       "          [  4.2961473],\n",
       "          [130.21458  ],\n",
       "          [  0.       ],\n",
       "          [345.51892  ],\n",
       "          [301.08087  ],\n",
       "          [  0.       ],\n",
       "          [  0.       ],\n",
       "          [ 59.36559  ],\n",
       "          [270.45673  ],\n",
       "          [200.88249  ],\n",
       "          [ 85.468094 ],\n",
       "          [ 64.635864 ],\n",
       "          [  3.0910907],\n",
       "          [  0.       ],\n",
       "          [304.61252  ],\n",
       "          [ 55.146927 ],\n",
       "          [ 96.587585 ],\n",
       "          [ 48.23749  ],\n",
       "          [393.74014  ],\n",
       "          [ 47.333508 ],\n",
       "          [428.64352  ],\n",
       "          [278.39093  ],\n",
       "          [ 54.287796 ],\n",
       "          [117.8824   ],\n",
       "          [197.93875  ],\n",
       "          [480.36804  ],\n",
       "          [ 51.16389  ],\n",
       "          [  2.0362942],\n",
       "          [218.64206  ],\n",
       "          [283.07166  ],\n",
       "          [ 78.961334 ],\n",
       "          [ 68.56475  ],\n",
       "          [211.53159  ],\n",
       "          [140.10098  ],\n",
       "          [247.65765  ],\n",
       "          [292.60474  ],\n",
       "          [368.1737   ],\n",
       "          [ 65.11624  ],\n",
       "          [114.2547   ],\n",
       "          [584.86145  ],\n",
       "          [ 89.143616 ],\n",
       "          [ 19.802525 ],\n",
       "          [175.29018  ],\n",
       "          [  0.8225474],\n",
       "          [269.14648  ],\n",
       "          [ 31.808556 ],\n",
       "          [ 75.01442  ],\n",
       "          [332.17642  ],\n",
       "          [567.5043   ],\n",
       "          [197.38618  ],\n",
       "          [121.41298  ],\n",
       "          [  6.293211 ],\n",
       "          [ 40.3067   ],\n",
       "          [ 94.154884 ],\n",
       "          [165.2844   ],\n",
       "          [ 11.554483 ],\n",
       "          [237.11273  ],\n",
       "          [ 87.090576 ],\n",
       "          [ 52.587982 ],\n",
       "          [ 78.24967  ],\n",
       "          [ 44.094013 ],\n",
       "          [105.68937  ]], dtype=float32),\n",
       "   Array([32.], dtype=float32))],\n",
       " Array([[  7.767868  ,   6.90945   , -16.68172   ],\n",
       "        [-27.690248  ,  50.17989   ,   6.380896  ],\n",
       "        [ 26.032648  ,   8.576742  , -21.69156   ],\n",
       "        [ -4.595398  ,  26.074497  ,  12.933754  ],\n",
       "        [-21.611322  ,  36.963676  ,  29.005886  ],\n",
       "        [-32.910053  ,  17.820354  ,  11.80762   ],\n",
       "        [-27.606764  ,  25.07743   ,  32.325733  ],\n",
       "        [ 36.701897  ,  28.485683  ,  35.315605  ],\n",
       "        [  5.47036   ,  28.650095  ,  18.144657  ],\n",
       "        [ 33.12232   ,  20.619781  ,  17.52008   ],\n",
       "        [-15.318033  ,  30.418457  ,   7.4417725 ],\n",
       "        [-29.250738  ,  38.058273  ,   5.510442  ],\n",
       "        [-14.947896  ,  26.341747  , -33.601936  ],\n",
       "        [-20.646536  ,  34.16208   , -32.03494   ],\n",
       "        [-23.015661  ,  46.47594   ,   7.8540225 ],\n",
       "        [-17.498236  ,  38.88892   ,  11.934913  ],\n",
       "        [-54.668663  ,  43.06054   , -14.055073  ],\n",
       "        [-14.934264  ,  30.229265  ,  14.315925  ],\n",
       "        [  9.527853  ,   7.0304976 , -20.67092   ],\n",
       "        [-36.502357  ,  36.32431   , -11.469714  ],\n",
       "        [ -0.4591779 ,   8.791822  , -15.594704  ],\n",
       "        [-11.571467  ,  14.477647  , -30.916805  ],\n",
       "        [ -4.843254  ,  35.827415  ,  15.874801  ],\n",
       "        [-17.313839  ,  44.047836  ,   3.5933607 ],\n",
       "        [-36.0407    ,  37.598595  ,  -3.4076102 ],\n",
       "        [-13.399536  ,  45.29644   ,  -5.143043  ],\n",
       "        [ 38.57089   ,  17.010788  ,  10.687678  ],\n",
       "        [-15.018822  ,  45.20196   ,   5.740068  ],\n",
       "        [-13.793787  ,  37.755413  ,  -7.1925406 ],\n",
       "        [  3.9258194 ,  19.609852  ,   0.33839455],\n",
       "        [ 16.799788  ,  28.073616  ,  -3.5766215 ],\n",
       "        [ 11.844449  ,  32.8906    , -22.28969   ]], dtype=float32))"
      ]
     },
     "execution_count": 193,
     "metadata": {},
     "output_type": "execute_result"
    }
   ],
   "source": [
    "key, subkey = jax.random.split(key)\n",
    "grad(lambda params: bforw(params).sum())((nn, jax.random.normal(subkey, shape=(X.shape[0], 3))))"
   ]
  },
  {
   "cell_type": "code",
   "execution_count": 175,
   "id": "c75d6332-a1ee-499a-b1f2-078b20736096",
   "metadata": {},
   "outputs": [
    {
     "data": {
      "text/plain": [
       "Array([[0.],\n",
       "       [0.],\n",
       "       [0.],\n",
       "       [0.],\n",
       "       [0.],\n",
       "       [0.],\n",
       "       [0.],\n",
       "       [0.],\n",
       "       [0.],\n",
       "       [0.]], dtype=float32)"
      ]
     },
     "execution_count": 175,
     "metadata": {},
     "output_type": "execute_result"
    }
   ],
   "source": [
    "forward(nn, jax.random.normal(keys[1], shape=(10,4)))"
   ]
  },
  {
   "cell_type": "code",
   "execution_count": null,
   "id": "3158825e-13cc-4f47-a785-231a9d3f3586",
   "metadata": {},
   "outputs": [],
   "source": []
  }
 ],
 "metadata": {
  "kernelspec": {
   "display_name": "Python 3 (ipykernel)",
   "language": "python",
   "name": "python3"
  },
  "language_info": {
   "codemirror_mode": {
    "name": "ipython",
    "version": 3
   },
   "file_extension": ".py",
   "mimetype": "text/x-python",
   "name": "python",
   "nbconvert_exporter": "python",
   "pygments_lexer": "ipython3",
   "version": "3.10.6"
  }
 },
 "nbformat": 4,
 "nbformat_minor": 5
}
