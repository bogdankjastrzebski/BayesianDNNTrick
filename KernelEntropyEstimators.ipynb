{
 "cells": [
  {
   "cell_type": "code",
   "execution_count": null,
   "id": "4fd7ca06-76e4-4ec8-a88c-04665e6ee291",
   "metadata": {},
   "outputs": [],
   "source": []
  },
  {
   "cell_type": "code",
   "execution_count": 591,
   "id": "201da61e-bf7c-4fcf-beeb-3ba14ae1739f",
   "metadata": {},
   "outputs": [],
   "source": [
    "import jax\n",
    "from jax import vmap, grad, jit \n",
    "import jax.numpy as np\n",
    "import jax.scipy as sp\n",
    "import matplotlib.pyplot as plt\n",
    "plt.style.use('dark_background')\n",
    "b = 0.265\n",
    "plt.rcParams['axes.facecolor'] = (b, b+0.01, b+0.01)\n",
    "plt.rcParams['figure.facecolor'] = (b, b+0.01, b+0.01)"
   ]
  },
  {
   "cell_type": "markdown",
   "id": "b300d692-56c7-4d5e-86be-ad5c19ed8bc3",
   "metadata": {},
   "source": [
    "# Relation of Entropy Estimation to space Dimentionality"
   ]
  },
  {
   "cell_type": "code",
   "execution_count": 563,
   "id": "aa5370de-2798-4d32-88fc-5c03041ae28f",
   "metadata": {},
   "outputs": [],
   "source": [
    "n = 10000\n",
    "dim = 1\n",
    "key, subkey = jax.random.split(jax.random.PRNGKey(23012023))\n",
    "R = jax.random.normal(key, shape=(n, dim))"
   ]
  },
  {
   "cell_type": "code",
   "execution_count": 564,
   "id": "b46a67ad-3c3a-4eaa-b39f-f3b099ad0b3e",
   "metadata": {},
   "outputs": [],
   "source": [
    "A = sp.stats.norm.pdf(np.sqrt(np.square(R[np.newaxis, :, :] - R[:, np.newaxis, :]).sum(2)), loc=0, scale=1/100)"
   ]
  },
  {
   "cell_type": "code",
   "execution_count": 565,
   "id": "213e0b26-a67c-4916-bdda-accfc088f4b3",
   "metadata": {},
   "outputs": [
    {
     "data": {
      "text/plain": [
       "Array(1.4023246, dtype=float32)"
      ]
     },
     "execution_count": 565,
     "metadata": {},
     "output_type": "execute_result"
    }
   ],
   "source": [
    "-np.log((A * sp.stats.norm.pdf(0)**(dim-1)).mean(0)).mean() "
   ]
  },
  {
   "cell_type": "code",
   "execution_count": 566,
   "id": "b6afae5a-bdd3-490a-83ea-3a2994d3551a",
   "metadata": {},
   "outputs": [],
   "source": [
    "def multivariate_logpdf(R):\n",
    "    return sp.stats.norm.logpdf(R).sum(1) "
   ]
  },
  {
   "cell_type": "code",
   "execution_count": 567,
   "id": "196a9a39-c33f-4e90-a344-749dccec55f1",
   "metadata": {},
   "outputs": [],
   "source": [
    "def multivariate_logpdf_dist(D, dim, scale=1):\n",
    "    return sp.stats.norm.logpdf(D, scale=scale) + (dim - 1)*sp.stats.norm.logpdf(0, scale=scale)"
   ]
  },
  {
   "cell_type": "code",
   "execution_count": 532,
   "id": "ce727252-9786-460f-ba70-ab1b9eb8c8d0",
   "metadata": {},
   "outputs": [
    {
     "data": {
      "text/plain": [
       "Array(1.1920929e-07, dtype=float32)"
      ]
     },
     "execution_count": 532,
     "metadata": {},
     "output_type": "execute_result"
    }
   ],
   "source": [
    "(multivariate_logpdf(R) - multivariate_logpdf_dist(np.sqrt(np.square(R).sum(1)), R.shape[1])).max()"
   ]
  },
  {
   "cell_type": "code",
   "execution_count": 533,
   "id": "bcab6c59-485e-45cd-a491-c54d0e688f4e",
   "metadata": {},
   "outputs": [],
   "source": [
    "def theoretical(R):\n",
    "    return -sp.stats.norm.logpdf(R).sum(1).mean()"
   ]
  },
  {
   "cell_type": "code",
   "execution_count": 534,
   "id": "53b64770-b6ae-4a25-a91e-36901866c54c",
   "metadata": {},
   "outputs": [
    {
     "data": {
      "text/plain": [
       "Array(1.4215324, dtype=float32)"
      ]
     },
     "execution_count": 534,
     "metadata": {},
     "output_type": "execute_result"
    }
   ],
   "source": [
    "theoretical(R)"
   ]
  },
  {
   "cell_type": "code",
   "execution_count": 535,
   "id": "ba0dda35-b971-408b-b9a7-3dbce957b5a9",
   "metadata": {},
   "outputs": [
    {
     "data": {
      "text/plain": [
       "Array(4.121784, dtype=float32)"
      ]
     },
     "execution_count": 535,
     "metadata": {},
     "output_type": "execute_result"
    }
   ],
   "source": [
    "np.log(np.exp(vmap(lambda D: multivariate_logpdf_dist(D, dim-1, scale=1/np.sqrt(n)))(np.sqrt(np.square(R[np.newaxis, :, :] - R[:, np.newaxis, :]).sum(2)))).sum(0)).mean()"
   ]
  },
  {
   "cell_type": "code",
   "execution_count": 592,
   "id": "edbc2c36-236a-4862-ba23-659aafa628b3",
   "metadata": {},
   "outputs": [
    {
     "data": {
      "image/png": "[encoded data removed]",
      "text/plain": [
       "<Figure size 640x480 with 1 Axes>"
      ]
     },
     "metadata": {},
     "output_type": "display_data"
    }
   ],
   "source": [
    "plt.hist(R.reshape(-1));"
   ]
  },
  {
   "cell_type": "code",
   "execution_count": 609,
   "id": "0e63ee07-7888-417b-8a5f-06d384946399",
   "metadata": {},
   "outputs": [
    {
     "data": {
      "text/plain": [
       "Array(1.4142135, dtype=float32)"
      ]
     },
     "execution_count": 609,
     "metadata": {},
     "output_type": "execute_result"
    }
   ],
   "source": [
    "np.linalg.norm(np.array([1,1]))"
   ]
  },
  {
   "cell_type": "code",
   "execution_count": 655,
   "id": "92410fe5-f21a-45bc-85dc-2dd101c185a1",
   "metadata": {},
   "outputs": [],
   "source": [
    "n = 10000\n",
    "dim = 2\n",
    "key, subkey = jax.random.split(jax.random.PRNGKey(23012023))\n",
    "R = jax.random.normal(key, shape=(n, dim))"
   ]
  },
  {
   "cell_type": "code",
   "execution_count": 656,
   "id": "637a85bf-e1e0-4aad-a14f-e4d610584e19",
   "metadata": {},
   "outputs": [],
   "source": [
    "d = jit(lambda x, y: np.linalg.norm(x-y))\n",
    "pdf = lambda scale: jit(lambda x: sp.stats.norm.pdf(vmap(d)(R[:5], np.repeat(x, R[:5].shape[0])), scale=scale).mean(0))"
   ]
  },
  {
   "cell_type": "code",
   "execution_count": null,
   "id": "280e92e6-c249-4061-a010-31935d212fb9",
   "metadata": {},
   "outputs": [],
   "source": [
    "np.repeat(np.array([[1,2]])"
   ]
  },
  {
   "cell_type": "code",
   "execution_count": null,
   "id": "8d3b4570-9b4c-45a9-8b55-98546a344f81",
   "metadata": {},
   "outputs": [],
   "source": []
  },
  {
   "cell_type": "code",
   "execution_count": 660,
   "id": "fddebfe4-8121-447f-8906-0c2b813ef119",
   "metadata": {},
   "outputs": [
    {
     "ename": "ValueError",
     "evalue": "vmap got inconsistent sizes for array axes to be mapped:\n  * one axis had size 5: axis 0 of argument x of type float32[5,2];\n  * one axis had size 10: axis 0 of argument y of type float32[10]",
     "output_type": "error",
     "traceback": [
      "\u001b[0;31m---------------------------------------------------------------------------\u001b[0m",
      "\u001b[0;31mValueError\u001b[0m                                Traceback (most recent call last)",
      "Cell \u001b[0;32mIn[660], line 2\u001b[0m\n\u001b[1;32m      1\u001b[0m x \u001b[38;5;241m=\u001b[39m np\u001b[38;5;241m.\u001b[39mlinspace(\u001b[38;5;241m-\u001b[39m\u001b[38;5;241m10\u001b[39m,\u001b[38;5;241m10\u001b[39m,\u001b[38;5;241m1000\u001b[39m)\u001b[38;5;241m.\u001b[39mreshape(\u001b[38;5;241m-\u001b[39m\u001b[38;5;241m1\u001b[39m,\u001b[38;5;241m1\u001b[39m)\n\u001b[0;32m----> 2\u001b[0m plt\u001b[38;5;241m.\u001b[39mplot(x\u001b[38;5;241m.\u001b[39mreshape(\u001b[38;5;241m-\u001b[39m\u001b[38;5;241m1\u001b[39m), \u001b[43mvmap\u001b[49m\u001b[43m(\u001b[49m\u001b[43mpdf\u001b[49m\u001b[43m(\u001b[49m\u001b[38;5;241;43m1\u001b[39;49m\u001b[43m)\u001b[49m\u001b[43m)\u001b[49m\u001b[43m(\u001b[49m\u001b[43mnp\u001b[49m\u001b[38;5;241;43m.\u001b[39;49m\u001b[43mc_\u001b[49m\u001b[43m[\u001b[49m\u001b[43mx\u001b[49m\u001b[43m,\u001b[49m\u001b[43m \u001b[49m\u001b[43mnp\u001b[49m\u001b[38;5;241;43m.\u001b[39;49m\u001b[43mones\u001b[49m\u001b[43m(\u001b[49m\u001b[43mx\u001b[49m\u001b[38;5;241;43m.\u001b[39;49m\u001b[43mshape\u001b[49m\u001b[43m[\u001b[49m\u001b[38;5;241;43m0\u001b[39;49m\u001b[43m]\u001b[49m\u001b[43m)\u001b[49m\u001b[43m]\u001b[49m\u001b[43m)\u001b[49m)\n",
      "    \u001b[0;31m[... skipping hidden 19 frame]\u001b[0m\n",
      "Cell \u001b[0;32mIn[656], line 2\u001b[0m, in \u001b[0;36m<lambda>\u001b[0;34m(x)\u001b[0m\n\u001b[1;32m      1\u001b[0m d \u001b[38;5;241m=\u001b[39m jit(\u001b[38;5;28;01mlambda\u001b[39;00m x, y: np\u001b[38;5;241m.\u001b[39mlinalg\u001b[38;5;241m.\u001b[39mnorm(x\u001b[38;5;241m-\u001b[39my))\n\u001b[0;32m----> 2\u001b[0m pdf \u001b[38;5;241m=\u001b[39m \u001b[38;5;28;01mlambda\u001b[39;00m scale: jit(\u001b[38;5;28;01mlambda\u001b[39;00m x: sp\u001b[38;5;241m.\u001b[39mstats\u001b[38;5;241m.\u001b[39mnorm\u001b[38;5;241m.\u001b[39mpdf(\u001b[43mvmap\u001b[49m\u001b[43m(\u001b[49m\u001b[43md\u001b[49m\u001b[43m)\u001b[49m\u001b[43m(\u001b[49m\u001b[43mR\u001b[49m\u001b[43m[\u001b[49m\u001b[43m:\u001b[49m\u001b[38;5;241;43m5\u001b[39;49m\u001b[43m]\u001b[49m\u001b[43m,\u001b[49m\u001b[43m \u001b[49m\u001b[43mnp\u001b[49m\u001b[38;5;241;43m.\u001b[39;49m\u001b[43mrepeat\u001b[49m\u001b[43m(\u001b[49m\u001b[43mx\u001b[49m\u001b[43m,\u001b[49m\u001b[43m \u001b[49m\u001b[43mR\u001b[49m\u001b[43m[\u001b[49m\u001b[43m:\u001b[49m\u001b[38;5;241;43m5\u001b[39;49m\u001b[43m]\u001b[49m\u001b[38;5;241;43m.\u001b[39;49m\u001b[43mshape\u001b[49m\u001b[43m[\u001b[49m\u001b[38;5;241;43m0\u001b[39;49m\u001b[43m]\u001b[49m\u001b[43m)\u001b[49m\u001b[43m)\u001b[49m, scale\u001b[38;5;241m=\u001b[39mscale)\u001b[38;5;241m.\u001b[39mmean(\u001b[38;5;241m0\u001b[39m))\n",
      "    \u001b[0;31m[... skipping hidden 2 frame]\u001b[0m\n",
      "File \u001b[0;32m~/.local/lib/python3.10/site-packages/jax/_src/api.py:1752\u001b[0m, in \u001b[0;36m_mapped_axis_size\u001b[0;34m(fn, tree, vals, dims, name)\u001b[0m\n\u001b[1;32m   1750\u001b[0m   \u001b[38;5;28;01melse\u001b[39;00m:\n\u001b[1;32m   1751\u001b[0m     msg\u001b[38;5;241m.\u001b[39mappend(\u001b[38;5;124mf\u001b[39m\u001b[38;5;124m\"\u001b[39m\u001b[38;5;124m  * some axes (\u001b[39m\u001b[38;5;132;01m{\u001b[39;00mct\u001b[38;5;132;01m}\u001b[39;00m\u001b[38;5;124m of them) had size \u001b[39m\u001b[38;5;132;01m{\u001b[39;00msz\u001b[38;5;132;01m}\u001b[39;00m\u001b[38;5;124m, e.g. axis \u001b[39m\u001b[38;5;132;01m{\u001b[39;00max\u001b[38;5;132;01m}\u001b[39;00m\u001b[38;5;124m of \u001b[39m\u001b[38;5;132;01m{\u001b[39;00mex\u001b[38;5;132;01m}\u001b[39;00m\u001b[38;5;124m;\u001b[39m\u001b[38;5;130;01m\\n\u001b[39;00m\u001b[38;5;124m\"\u001b[39m)\n\u001b[0;32m-> 1752\u001b[0m \u001b[38;5;28;01mraise\u001b[39;00m \u001b[38;5;167;01mValueError\u001b[39;00m(\u001b[38;5;124m'\u001b[39m\u001b[38;5;124m'\u001b[39m\u001b[38;5;241m.\u001b[39mjoin(msg)[:\u001b[38;5;241m-\u001b[39m\u001b[38;5;241m2\u001b[39m])\n",
      "\u001b[0;31mValueError\u001b[0m: vmap got inconsistent sizes for array axes to be mapped:\n  * one axis had size 5: axis 0 of argument x of type float32[5,2];\n  * one axis had size 10: axis 0 of argument y of type float32[10]"
     ]
    }
   ],
   "source": [
    "x = np.linspace(-10,10,1000).reshape(-1,1)\n",
    "plt.plot(x.reshape(-1), vmap(pdf(1))(np.c_[x, np.ones(x.shape[0])]))"
   ]
  },
  {
   "cell_type": "code",
   "execution_count": null,
   "id": "fab1753d-d7b3-4cd7-8f32-c8977da989a2",
   "metadata": {},
   "outputs": [],
   "source": []
  },
  {
   "cell_type": "code",
   "execution_count": null,
   "id": "5f00d1be-5028-4ab8-9448-228af5f1f581",
   "metadata": {},
   "outputs": [],
   "source": []
  }
 ],
 "metadata": {
  "kernelspec": {
   "display_name": "Python 3 (ipykernel)",
   "language": "python",
   "name": "python3"
  },
  "language_info": {
   "codemirror_mode": {
    "name": "ipython",
    "version": 3
   },
   "file_extension": ".py",
   "mimetype": "text/x-python",
   "name": "python",
   "nbconvert_exporter": "python",
   "pygments_lexer": "ipython3",
   "version": "3.10.6"
  }
 },
 "nbformat": 4,
 "nbformat_minor": 5
}
