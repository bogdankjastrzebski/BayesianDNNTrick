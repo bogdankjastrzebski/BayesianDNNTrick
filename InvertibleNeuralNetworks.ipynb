{
 "cells": [
  {
   "cell_type": "markdown",
   "id": "820b983c-7bbc-4bef-8cf5-14e20d9f34f8",
   "metadata": {},
   "source": [
    "# Invertible Neural Networks (for generation)"
   ]
  },
  {
   "cell_type": "code",
   "execution_count": 1,
   "id": "027f0143-3f28-4218-8800-e59631120f48",
   "metadata": {},
   "outputs": [],
   "source": [
    "import jax \n",
    "import jax.numpy as np\n",
    "import jax.scipy as sp\n",
    "from jax import value_and_grad, grad, jit, vmap\n",
    "from jax.example_libraries import optimizers\n",
    "import numpy as onp\n",
    "import matplotlib.pyplot as plt\n",
    "from tqdm.notebook import tqdm, trange\n",
    "\n",
    "plt.style.use('dark_background')\n",
    "background_color = tuple(onp.array([66, 68, 69])/255)\n",
    "plt.rcParams['axes.facecolor'] = background_color\n",
    "plt.rcParams['figure.facecolor'] = background_color"
   ]
  },
  {
   "cell_type": "markdown",
   "id": "74fcd25c-3cdd-4e00-889e-4bf4b0fe9d60",
   "metadata": {},
   "source": [
    "$$\\frac{|| f(x_0) - f(x_1) ||}{||x_0 - x_1||} < q \\qquad \\forall_{x_0, x_1 \\in X}$$\n",
    "$$ z = f(x) + x $$\n",
    "$$ x = z - f(x) $$\n",
    "$$ x = z - f(z - f(x))$$\n",
    "$$ x = z - f(z - f(\\dots))$$\n",
    "\n",
    "Is $g(x) = z - f(x)$ a contraction? \n",
    "\n",
    "$$|| g(x_0) - g(x_1) || = || z - f(x_0) - z + f(x_1) || $$\n",
    "$$ = || f(x_1) - f(x_0) || = $$\n",
    "$$ = || f(x_1) - f(x_0) || < q ||x_0 - x_1|| $$\n",
    "\n",
    "Therefore, $g$ is a contraction. "
   ]
  },
  {
   "cell_type": "markdown",
   "id": "0c6b9359-412e-4a74-86ac-72cf5631f3ba",
   "metadata": {},
   "source": [
    "\n",
    "<!-- $$ p(f | D) = \\frac{p(D | f)p(f)}{p(D)} \\propto p(D | f)p(f) $$\n",
    "$$ \\mathbb{D}_{KL}[q(f)\\;||\\;p(f | D)] = -\\mathbb{E}_{f \\sim q, X \\sim \\mathcal{X}}\\text{log}(f(X)) + \\mathbb{D}_{KL}[q(f) \\;||\\;p(f)]$$\n",
    "Easier, not accurate:\n",
    "$$ \\max_{\\theta \\in \\Theta} \\mathbb{E}_{X\\sim\\mathcal{X}}\\text{log}\\,m_\\theta(X) $$\n",
    "$$ \\text{s.t. } \\forall_{w \\in W} ||w||_2 < q $$\n",
    "where $0 \\leq q < 1$ and $W \\subset \\theta$ are the weights of the neural network. The problem is, that we need to sample from the approximate distribution, and we do not want that. \n",
    " -->\n",
    "We want to minimise relative entropy between true and approximate distributions: \n",
    "$$ \\mathbb{D}_{KL}(p(X) \\;||\\; q_\\theta(X) ) = \\mathbb{E}_{X \\sim p}\\text{log}p(X) - \\mathbb{E}_{X \\sim p}\\text{log}q_\\theta(X)$$\n",
    "For minimization, entropy of the real data is unimportant, as it is independent of $\\theta$, hence we minimize only the crossentropy:\n",
    "$$ \\min_{\\theta \\in \\Theta}  - \\mathbb{E}_{X \\sim p}\\text{log}q_\\theta(X) $$\n",
    "$$ \\text{s.t. } \\forall_{w \\in W} ||w||_2 < q $$\n",
    "where $0 \\leq q < 1$ and $W \\subset \\theta$ are the weights of the neural network. Notice, that we now sample from the data distribution, i.e., we sample from our dataset."
   ]
  },
  {
   "cell_type": "code",
   "execution_count": 119,
   "id": "298bc06f-25f6-4d2a-b8a7-69ddd6ff029a",
   "metadata": {},
   "outputs": [],
   "source": [
    "def sample_data(key, n, s=0.0):\n",
    "    R = jax.random.normal(key, shape=(n, 3))\n",
    "    return (R[:, 0].reshape(-1,1) + 3) * np.c_[np.sin(1*R[:,0]), np.cos(1*R[:,0])] + s*R[:, 1:]"
   ]
  },
  {
   "cell_type": "code",
   "execution_count": 120,
   "id": "646fb437-b60e-49a7-b437-5b2e96f4ba6b",
   "metadata": {},
   "outputs": [],
   "source": [
    "key = jax.random.PRNGKey(1022023)\n",
    "X = sample_data(key, 1000, 0.2)"
   ]
  },
  {
   "cell_type": "code",
   "execution_count": 121,
   "id": "725843f2-a6e9-4582-8085-c309d1fe66f4",
   "metadata": {},
   "outputs": [
    {
     "data": {
      "text/plain": [
       "<matplotlib.collections.PathCollection at 0x7f8bdebbe290>"
      ]
     },
     "execution_count": 121,
     "metadata": {},
     "output_type": "execute_result"
    },
    {
     "data": {
      "image/png": "[encoded data removed]",
      "text/plain": [
       "<Figure size 640x480 with 1 Axes>"
      ]
     },
     "metadata": {},
     "output_type": "display_data"
    }
   ],
   "source": [
    "plt.scatter(X[:,0], X[:,1])"
   ]
  },
  {
   "cell_type": "code",
   "execution_count": 164,
   "id": "9cffeb2a-4dca-4797-b671-34a52b0da448",
   "metadata": {},
   "outputs": [],
   "source": [
    "def value_and_jacrev(f, x):\n",
    "    y, pullback = jax.vjp(f, x)\n",
    "    basis = jnp.eye(y.size, dtype=y.dtype)\n",
    "    jac = jax.vmap(pullback)(basis)\n",
    "    return y, jac\n",
    "\n",
    "def create_layer(key, input_dim, output_dim, std=0.001):\n",
    "    weight = std * jax.random.normal(key, shape=(input_dim, output_dim))/input_dim\n",
    "    bias = np.zeros((output_dim, ))\n",
    "    return weight, bias\n",
    "\n",
    "def create_reslayer(key, input_dim, hidden_dim, std=0.001): # expand squeeze \n",
    "    key0, key1 = jax.random.split(key)\n",
    "    return (create_layer(key0, input_dim, hidden_dim, std=std), \n",
    "            create_layer(key1, hidden_dim, input_dim, std=std))\n",
    "\n",
    "def create_mlp(key, inout):\n",
    "    return [create_layer(key, inout[i], inout[i+1])\n",
    "            for i, key in enumerate(jax.random.split(key, len(inout)-1))]\n",
    "\n",
    "def create_resmlp(key, input_dim, hidden_dim, num_layers):\n",
    "    return [create_reslayer(key, input_dim, hidden_dim) for key in jax.random.split(key, num_layers)]\n",
    "\n",
    "def layer_forward(layer, activation_function, X):\n",
    "    weight, bias = layer\n",
    "    return activation_function(X @ weight + bias)\n",
    "\n",
    "def reslayer_forward(layer, activation_function, X):\n",
    "    layer_0, layer_1 = layer\n",
    "    H = layer_forward(layer_0,         jax.nn.relu, X)\n",
    "    H = layer_forward(layer_1, activation_function, X)\n",
    "    return X + H \n",
    "\n",
    "def residual_forward(layer, activation_function, X):\n",
    "    return layer_forward(layer, activation_function, X) + X\n",
    "\n",
    "def forward(params, X):\n",
    "    for i, layer in enumerate(params):\n",
    "        activation_function = jax.nn.relu if i < len(params)-1 else lambda x: x\n",
    "        X = residual_forward(layer, activation_function, X)\n",
    "    return X\n",
    "\n",
    "def layer_constraint(layer):\n",
    "    weight, _ = layer\n",
    "    return jax.nn.relu(np.linalg.norm(weight, ord=2) - 1)\n",
    "\n",
    "def constraint(params):\n",
    "    return sum(layer_constraint(layer) for layer in params)\n",
    "\n",
    "def log_density(params, X):\n",
    "    \n",
    "    Z, pullback = jax.vjp(lambda X: forward(params, X), X)\n",
    "    \n",
    "    basis = np.eye(Z.shape[1], dtype=Z.dtype)[:,np.newaxis,:].repeat(Z.shape[0], axis=1)\n",
    "    jac = vmap(pullback)(basis)[0].transpose((1,0,2))\n",
    "    \n",
    "    # print(jac.shape)\n",
    "    # print(np.linalg.det(jac[0,:,:]))\n",
    "    # print(vmap(np.linalg.det)(jac))\n",
    "    \n",
    "    return sp.stats.norm.logpdf(Z).sum(axis=1) + np.log(np.abs(jax.vmap(np.linalg.det)(jac)))\n",
    "\n",
    "def loss(params, X, C):\n",
    "    weights = [p[0] for p in params]\n",
    "    return -log_density(params, X).sum() + C*constraint(params)"
   ]
  },
  {
   "cell_type": "code",
   "execution_count": 242,
   "id": "1a3544c9-0201-4f15-89a4-2ac81fd7d792",
   "metadata": {},
   "outputs": [],
   "source": [
    "key = jax.random.PRNGKey(1022023)\n",
    "params = create_mlp(key, [2,2,2,2,2,2,2,2,2,2,2,2,2,2])\n",
    "losses = []"
   ]
  },
  {
   "cell_type": "code",
   "execution_count": 245,
   "id": "4b337dd0-da7e-4f34-b00d-aaaa403757c0",
   "metadata": {},
   "outputs": [],
   "source": [
    "learning_rate=0.01\n",
    "opt_init, opt_update, get_params = optimizers.adam(learning_rate)\n",
    "opt_state = opt_init(params)"
   ]
  },
  {
   "cell_type": "code",
   "execution_count": 255,
   "id": "92043b1d-9d07-48cb-a136-9e3a4524bde7",
   "metadata": {},
   "outputs": [
    {
     "data": {
      "application/vnd.jupyter.widget-view+json": {
       "model_id": "abbdb2665dcd47b79cafd4cdbba78237",
       "version_major": 2,
       "version_minor": 0
      },
      "text/plain": [
       "  0%|          | 0/10000 [00:00<?, ?it/s]"
      ]
     },
     "metadata": {},
     "output_type": "display_data"
    },
    {
     "ename": "KeyboardInterrupt",
     "evalue": "",
     "output_type": "error",
     "traceback": [
      "\u001b[0;31m---------------------------------------------------------------------------\u001b[0m",
      "\u001b[0;31mKeyboardInterrupt\u001b[0m                         Traceback (most recent call last)",
      "Cell \u001b[0;32mIn[255], line 12\u001b[0m\n\u001b[1;32m     10\u001b[0m X \u001b[38;5;241m=\u001b[39m sample_data(key, batch_size, \u001b[38;5;241m0.2\u001b[39m)\n\u001b[1;32m     11\u001b[0m value, grads \u001b[38;5;241m=\u001b[39m jitvgloss(get_params(opt_state))\n\u001b[0;32m---> 12\u001b[0m opt_state \u001b[38;5;241m=\u001b[39m \u001b[43mopt_update\u001b[49m\u001b[43m(\u001b[49m\u001b[43mepoch\u001b[49m\u001b[43m,\u001b[49m\u001b[43m \u001b[49m\u001b[43mgrads\u001b[49m\u001b[43m,\u001b[49m\u001b[43m \u001b[49m\u001b[43mopt_state\u001b[49m\u001b[43m)\u001b[49m\n\u001b[1;32m     14\u001b[0m losses\u001b[38;5;241m.\u001b[39mappend(value)\n\u001b[1;32m     15\u001b[0m pbar\u001b[38;5;241m.\u001b[39mset_description(\u001b[38;5;124mf\u001b[39m\u001b[38;5;124m\"\u001b[39m\u001b[38;5;132;01m{\u001b[39;00mvalue\u001b[38;5;132;01m:\u001b[39;00m\u001b[38;5;124m0.03f\u001b[39m\u001b[38;5;132;01m}\u001b[39;00m\u001b[38;5;124m\"\u001b[39m)\n",
      "File \u001b[0;32m~/.local/lib/python3.10/site-packages/jax/example_libraries/optimizers.py:196\u001b[0m, in \u001b[0;36moptimizer.<locals>.tree_opt_maker.<locals>.tree_update\u001b[0;34m(i, grad_tree, opt_state)\u001b[0m\n\u001b[1;32m    194\u001b[0m   \u001b[38;5;28;01mraise\u001b[39;00m \u001b[38;5;167;01mTypeError\u001b[39;00m(msg\u001b[38;5;241m.\u001b[39mformat(tree, tree2))\n\u001b[1;32m    195\u001b[0m states \u001b[38;5;241m=\u001b[39m \u001b[38;5;28mmap\u001b[39m(tree_unflatten, subtrees, states_flat)\n\u001b[0;32m--> 196\u001b[0m new_states \u001b[38;5;241m=\u001b[39m \u001b[38;5;28;43mmap\u001b[39;49m\u001b[43m(\u001b[49m\u001b[43mpartial\u001b[49m\u001b[43m(\u001b[49m\u001b[43mupdate\u001b[49m\u001b[43m,\u001b[49m\u001b[43m \u001b[49m\u001b[43mi\u001b[49m\u001b[43m)\u001b[49m\u001b[43m,\u001b[49m\u001b[43m \u001b[49m\u001b[43mgrad_flat\u001b[49m\u001b[43m,\u001b[49m\u001b[43m \u001b[49m\u001b[43mstates\u001b[49m\u001b[43m)\u001b[49m\n\u001b[1;32m    197\u001b[0m new_states_flat, subtrees2 \u001b[38;5;241m=\u001b[39m unzip2(\u001b[38;5;28mmap\u001b[39m(tree_flatten, new_states))\n\u001b[1;32m    198\u001b[0m \u001b[38;5;28;01mfor\u001b[39;00m subtree, subtree2 \u001b[38;5;129;01min\u001b[39;00m \u001b[38;5;28mzip\u001b[39m(subtrees, subtrees2):\n",
      "File \u001b[0;32m~/.local/lib/python3.10/site-packages/jax/_src/util.py:79\u001b[0m, in \u001b[0;36msafe_map\u001b[0;34m(f, *args)\u001b[0m\n\u001b[1;32m     77\u001b[0m \u001b[38;5;28;01mfor\u001b[39;00m arg \u001b[38;5;129;01min\u001b[39;00m args[\u001b[38;5;241m1\u001b[39m:]:\n\u001b[1;32m     78\u001b[0m   \u001b[38;5;28;01massert\u001b[39;00m \u001b[38;5;28mlen\u001b[39m(arg) \u001b[38;5;241m==\u001b[39m n, \u001b[38;5;124mf\u001b[39m\u001b[38;5;124m'\u001b[39m\u001b[38;5;124mlength mismatch: \u001b[39m\u001b[38;5;132;01m{\u001b[39;00m\u001b[38;5;28mlist\u001b[39m(\u001b[38;5;28mmap\u001b[39m(\u001b[38;5;28mlen\u001b[39m,\u001b[38;5;250m \u001b[39margs))\u001b[38;5;132;01m}\u001b[39;00m\u001b[38;5;124m'\u001b[39m\n\u001b[0;32m---> 79\u001b[0m \u001b[38;5;28;01mreturn\u001b[39;00m \u001b[38;5;28;43mlist\u001b[39;49m\u001b[43m(\u001b[49m\u001b[38;5;28;43mmap\u001b[39;49m\u001b[43m(\u001b[49m\u001b[43mf\u001b[49m\u001b[43m,\u001b[49m\u001b[43m \u001b[49m\u001b[38;5;241;43m*\u001b[39;49m\u001b[43margs\u001b[49m\u001b[43m)\u001b[49m\u001b[43m)\u001b[49m\n",
      "File \u001b[0;32m~/.local/lib/python3.10/site-packages/jax/example_libraries/optimizers.py:415\u001b[0m, in \u001b[0;36madam.<locals>.update\u001b[0;34m(i, g, state)\u001b[0m\n\u001b[1;32m    413\u001b[0m \u001b[38;5;28;01mdef\u001b[39;00m \u001b[38;5;21mupdate\u001b[39m(i, g, state):\n\u001b[1;32m    414\u001b[0m   x, m, v \u001b[38;5;241m=\u001b[39m state\n\u001b[0;32m--> 415\u001b[0m   m \u001b[38;5;241m=\u001b[39m (\u001b[38;5;241m1\u001b[39m \u001b[38;5;241m-\u001b[39m b1) \u001b[38;5;241m*\u001b[39m g \u001b[38;5;241m+\u001b[39m \u001b[43mb1\u001b[49m\u001b[43m \u001b[49m\u001b[38;5;241;43m*\u001b[39;49m\u001b[43m \u001b[49m\u001b[43mm\u001b[49m  \u001b[38;5;66;03m# First  moment estimate.\u001b[39;00m\n\u001b[1;32m    416\u001b[0m   v \u001b[38;5;241m=\u001b[39m (\u001b[38;5;241m1\u001b[39m \u001b[38;5;241m-\u001b[39m b2) \u001b[38;5;241m*\u001b[39m jnp\u001b[38;5;241m.\u001b[39msquare(g) \u001b[38;5;241m+\u001b[39m b2 \u001b[38;5;241m*\u001b[39m v  \u001b[38;5;66;03m# Second moment estimate.\u001b[39;00m\n\u001b[1;32m    417\u001b[0m   mhat \u001b[38;5;241m=\u001b[39m m \u001b[38;5;241m/\u001b[39m (\u001b[38;5;241m1\u001b[39m \u001b[38;5;241m-\u001b[39m jnp\u001b[38;5;241m.\u001b[39masarray(b1, m\u001b[38;5;241m.\u001b[39mdtype) \u001b[38;5;241m*\u001b[39m\u001b[38;5;241m*\u001b[39m (i \u001b[38;5;241m+\u001b[39m \u001b[38;5;241m1\u001b[39m))  \u001b[38;5;66;03m# Bias correction.\u001b[39;00m\n",
      "File \u001b[0;32m~/.local/lib/python3.10/site-packages/jax/_src/numpy/lax_numpy.py:4948\u001b[0m, in \u001b[0;36m_defer_to_unrecognized_arg.<locals>.deferring_binary_op\u001b[0;34m(self, other)\u001b[0m\n\u001b[1;32m   4946\u001b[0m args \u001b[38;5;241m=\u001b[39m (other, \u001b[38;5;28mself\u001b[39m) \u001b[38;5;28;01mif\u001b[39;00m swap \u001b[38;5;28;01melse\u001b[39;00m (\u001b[38;5;28mself\u001b[39m, other)\n\u001b[1;32m   4947\u001b[0m \u001b[38;5;28;01mif\u001b[39;00m \u001b[38;5;28misinstance\u001b[39m(other, _accepted_binop_types):\n\u001b[0;32m-> 4948\u001b[0m   \u001b[38;5;28;01mreturn\u001b[39;00m \u001b[43mbinary_op\u001b[49m\u001b[43m(\u001b[49m\u001b[38;5;241;43m*\u001b[39;49m\u001b[43margs\u001b[49m\u001b[43m)\u001b[49m\n\u001b[1;32m   4949\u001b[0m \u001b[38;5;28;01mif\u001b[39;00m \u001b[38;5;28misinstance\u001b[39m(other, _rejected_binop_types):\n\u001b[1;32m   4950\u001b[0m   \u001b[38;5;28;01mraise\u001b[39;00m \u001b[38;5;167;01mTypeError\u001b[39;00m(\u001b[38;5;124mf\u001b[39m\u001b[38;5;124m\"\u001b[39m\u001b[38;5;124munsupported operand type(s) for \u001b[39m\u001b[38;5;132;01m{\u001b[39;00mopchar\u001b[38;5;132;01m}\u001b[39;00m\u001b[38;5;124m: \u001b[39m\u001b[38;5;124m\"\u001b[39m\n\u001b[1;32m   4951\u001b[0m                   \u001b[38;5;124mf\u001b[39m\u001b[38;5;124m\"\u001b[39m\u001b[38;5;132;01m{\u001b[39;00m\u001b[38;5;28mtype\u001b[39m(args[\u001b[38;5;241m0\u001b[39m])\u001b[38;5;241m.\u001b[39m\u001b[38;5;18m__name__\u001b[39m\u001b[38;5;132;01m!r}\u001b[39;00m\u001b[38;5;124m and \u001b[39m\u001b[38;5;132;01m{\u001b[39;00m\u001b[38;5;28mtype\u001b[39m(args[\u001b[38;5;241m1\u001b[39m])\u001b[38;5;241m.\u001b[39m\u001b[38;5;18m__name__\u001b[39m\u001b[38;5;132;01m!r}\u001b[39;00m\u001b[38;5;124m\"\u001b[39m)\n",
      "\u001b[0;31mKeyboardInterrupt\u001b[0m: "
     ]
    }
   ],
   "source": [
    "key = jax.random.PRNGKey(1022023)\n",
    "EPOCHS = 10000\n",
    "batch_size = 128*4\n",
    "C = 10000.5\n",
    "jitvgloss = jit(lambda params: jax.value_and_grad(lambda params: loss(params, X, C))(params))\n",
    "\n",
    "for epoch in (pbar := trange(EPOCHS)):\n",
    "    \n",
    "    key, subkey = jax.random.split(key)\n",
    "    X = sample_data(key, batch_size, 0.2)\n",
    "    value, grads = jitvgloss(get_params(opt_state))\n",
    "    opt_state = opt_update(epoch, grads, opt_state)\n",
    "    \n",
    "    losses.append(value)\n",
    "    pbar.set_description(f\"{value:0.03f}\")"
   ]
  },
  {
   "cell_type": "code",
   "execution_count": 256,
   "id": "98fba268-6076-4a09-95f9-a288c404e383",
   "metadata": {},
   "outputs": [
    {
     "data": {
      "text/plain": [
       "[<matplotlib.lines.Line2D at 0x7f8bcba55660>]"
      ]
     },
     "execution_count": 256,
     "metadata": {},
     "output_type": "execute_result"
    },
    {
     "data": {
      "image/png": "[encoded data removed]",
      "text/plain": [
       "<Figure size 640x480 with 1 Axes>"
      ]
     },
     "metadata": {},
     "output_type": "display_data"
    }
   ],
   "source": [
    "plt.plot(losses)"
   ]
  },
  {
   "cell_type": "code",
   "execution_count": 257,
   "id": "cfaafa86-000e-41a2-9489-c59058afacaf",
   "metadata": {},
   "outputs": [
    {
     "data": {
      "text/plain": [
       "Array(0., dtype=float32)"
      ]
     },
     "execution_count": 257,
     "metadata": {},
     "output_type": "execute_result"
    }
   ],
   "source": [
    "constraint(get_params(opt_state))"
   ]
  },
  {
   "cell_type": "code",
   "execution_count": 258,
   "id": "ea5bf9b3-e8c2-4569-bc1f-b99ac033749c",
   "metadata": {},
   "outputs": [
    {
     "data": {
      "text/plain": [
       "Array(0., dtype=float32)"
      ]
     },
     "execution_count": 258,
     "metadata": {},
     "output_type": "execute_result"
    }
   ],
   "source": [
    "layer_constraint(get_params(opt_state)[3])"
   ]
  },
  {
   "cell_type": "code",
   "execution_count": 259,
   "id": "e77d66c1-9570-4f17-98a4-2f88671c4bd1",
   "metadata": {},
   "outputs": [],
   "source": [
    "key = jax.random.PRNGKey(1022023)\n",
    "Z = jax.random.normal(key, shape=(1000,2))"
   ]
  },
  {
   "cell_type": "code",
   "execution_count": 260,
   "id": "2cfeeebc-632c-4854-a7e7-083df7a16459",
   "metadata": {},
   "outputs": [],
   "source": [
    "def residual_backward(layer, activation_function, Z, n=10):\n",
    "    Z_prev = Z\n",
    "    for _ in range(n):\n",
    "        Z_prev = Z - layer_forward(layer, activation_function, Z_prev)\n",
    "    return Z_prev\n",
    "def backward(params, Z, n=10):\n",
    "    for i, layer in enumerate(reversed(params)):\n",
    "        activation_function = jax.nn.relu if i > 0 else lambda x: x\n",
    "        Z = residual_backward(layer, activation_function, Z, n)\n",
    "    return Z"
   ]
  },
  {
   "cell_type": "code",
   "execution_count": 261,
   "id": "075ad741-70b7-449c-a267-fe4fa666b45e",
   "metadata": {},
   "outputs": [],
   "source": [
    "Xhat = backward(get_params(opt_state), Z)"
   ]
  },
  {
   "cell_type": "code",
   "execution_count": 262,
   "id": "5296ff1f-edc7-43ef-95b7-09a10e9a8dda",
   "metadata": {},
   "outputs": [
    {
     "data": {
      "text/plain": [
       "Array([[ 2.5494175 ,  1.129962  ],\n",
       "       [-9.382919  , -3.4110863 ],\n",
       "       [ 2.3598926 ,  2.3936572 ],\n",
       "       ...,\n",
       "       [ 0.94048357,  5.192822  ],\n",
       "       [-6.9992485 , -2.4385781 ],\n",
       "       [-1.5495486 ,  2.458498  ]], dtype=float32)"
      ]
     },
     "execution_count": 262,
     "metadata": {},
     "output_type": "execute_result"
    }
   ],
   "source": [
    "Xhat"
   ]
  },
  {
   "cell_type": "code",
   "execution_count": 263,
   "id": "123bc04e-2d01-4f52-8582-03654f54bf22",
   "metadata": {},
   "outputs": [
    {
     "data": {
      "text/plain": [
       "<matplotlib.collections.PathCollection at 0x7f8bc9c43100>"
      ]
     },
     "execution_count": 263,
     "metadata": {},
     "output_type": "execute_result"
    },
    {
     "data": {
      "image/png": "[encoded data removed]",
      "text/plain": [
       "<Figure size 640x480 with 1 Axes>"
      ]
     },
     "metadata": {},
     "output_type": "display_data"
    }
   ],
   "source": [
    "plt.scatter(Xhat[:,0], Xhat[:,1])\n",
    "plt.scatter(X[:,0], X[:,1])\n",
    "# plt.xlim(-6,6)\n",
    "# plt.ylim(-6,6)"
   ]
  },
  {
   "cell_type": "code",
   "execution_count": null,
   "id": "34b64eea-21c0-47fd-abb8-08a268ff1b6c",
   "metadata": {},
   "outputs": [],
   "source": []
  },
  {
   "cell_type": "code",
   "execution_count": 264,
   "id": "5c5332d0-5b00-4525-b023-b3bfdd7e28b3",
   "metadata": {},
   "outputs": [],
   "source": [
    "A = jax.random.normal(key, shape=(10,3)) * 2\n",
    "B = jax.random.normal(key, shape=(3,10)) / 20 "
   ]
  },
  {
   "cell_type": "code",
   "execution_count": 265,
   "id": "d95170a3-5165-4fba-a3a4-697a41186f5e",
   "metadata": {},
   "outputs": [
    {
     "data": {
      "text/plain": [
       "Array(0.91574633, dtype=float32)"
      ]
     },
     "execution_count": 265,
     "metadata": {},
     "output_type": "execute_result"
    }
   ],
   "source": [
    "np.linalg.norm(B @ A, ord=2)"
   ]
  },
  {
   "cell_type": "code",
   "execution_count": 266,
   "id": "537f686b-f204-412e-915e-931679ac3a16",
   "metadata": {},
   "outputs": [
    {
     "data": {
      "text/plain": [
       "Array(0.5198766, dtype=float32)"
      ]
     },
     "execution_count": 266,
     "metadata": {},
     "output_type": "execute_result"
    }
   ],
   "source": [
    "np.linalg.det(B @ A + np.eye(3))"
   ]
  },
  {
   "cell_type": "code",
   "execution_count": null,
   "id": "f79cb0f4-1f77-4af8-8bf7-ce571d2b6542",
   "metadata": {},
   "outputs": [],
   "source": []
  }
 ],
 "metadata": {
  "kernelspec": {
   "display_name": "Python 3 (ipykernel)",
   "language": "python",
   "name": "python3"
  },
  "language_info": {
   "codemirror_mode": {
    "name": "ipython",
    "version": 3
   },
   "file_extension": ".py",
   "mimetype": "text/x-python",
   "name": "python",
   "nbconvert_exporter": "python",
   "pygments_lexer": "ipython3",
   "version": "3.10.6"
  }
 },
 "nbformat": 4,
 "nbformat_minor": 5
}
