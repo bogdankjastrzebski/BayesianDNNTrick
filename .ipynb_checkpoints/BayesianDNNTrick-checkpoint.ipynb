{
 "cells": [
  {
   "cell_type": "code",
   "execution_count": 54,
   "id": "f7fac9cc-8aa4-4c35-942c-a0c89ef2d629",
   "metadata": {},
   "outputs": [],
   "source": [
    "import jax.numpy as np\n",
    "import jax.scipy as sp\n",
    "import jax\n",
    "from jax import jit, grad, vmap, value_and_grad\n",
    "\n",
    "# from tensorflow_probability.substrates import jax as tfp\n",
    "\n",
    "import matplotlib.pyplot as plt\n",
    "plt.style.use('dark_background')"
   ]
  },
  {
   "cell_type": "markdown",
   "id": "3e9991ac-fab4-4673-b117-4032075b7cd8",
   "metadata": {},
   "source": [
    "### The Idea\n",
    "\n",
    "In Bayesian statistics, we search for a posterior distribution of parameters:\n",
    "$$p(\\theta | D) = \\frac{p(D | \\theta)p(\\theta)}{p(D)} \\propto p(D | \\theta)p(\\theta)$$\n",
    "\n",
    "But, if the parameters represent a function, i.e., they are parameters of the function, maybe what we are looking for is the posterior probability over **functions**:\n",
    "\n",
    "$$p(f | D) = \\frac{p(D | f)p(f)}{p(D)} \\propto p(D | f)p(f)$$\n",
    "\n",
    "$$p(D | f) = p(X, Y | f) = p(Y | X, f)p(X | f) = p(Y | X, f)p(X)$$\n",
    "\n",
    "$$p(D) = p(X, Y) = p(Y | X)p(X) $$\n",
    "\n",
    "$$p(f | D) = \\frac{p(D | f)p(f)}{p(D)} = \\frac{p(Y | X, f)p(X)p(f)}{p(Y | X)p(X)} = \\frac{p(Y | X, f)p(f)}{p(Y | X)}$$\n",
    "\n",
    "$$\\mathbb{D}_{KL}[q(f | D) | p(f | D)] = -\\mathbb{E}_{f \\sim q}\\text{log}\\frac{p(f|D)}{q(f|D)} = -\\mathbb{E}_{f \\sim q}\\text{log}\\frac{p(Y | X, f)p(X | f)p(f)}{q(f|D)} = -\\mathbb{E}_{f \\sim q}\\text{log}p(Y | X, f) - \\mathbb{E}_{f \\sim q}\\text{log}\\frac{p(f)}{q(f|D)} + C$$\n",
    "\n",
    "$$\\mathbb{D}_{KL}[q(f | D) | p(f | D)] = -\\mathbb{E}_{f \\sim q}\\text{log}p(Y | X, f) + \\mathbb{D}_{KL}[q(f|D) | p(f)] + C $$\n",
    "\n",
    "$$\\mathbb{D}_{KL}[q(f | D) | p(f | D)] = -\\mathbb{E}_{f \\sim q}\\text{log}p(Y | X, f) + \\mathbb{H}[q(f|D), p(f)] - \\mathbb{H}[q(f|D)] + C $$\n",
    "\n",
    "The relative enropy $\\mathbb{H}[q(f|D), p(f)] = -\\mathbb{E}_{f \\sim q}\\text{log}p(f)$ is simple to calculate, since we can sample from $q$ and we choose our prior. Having a sampler, we can also easily evaluate the first term, the cross-entropy \"loss\". However, to calculate the second term, the entropy of $q$, we need the surrogate posterior $q$. The trick is to use the derivative of our sampler instead:\n",
    "\n",
    "$$\\text{log}\\frac{d}{dp}F^{-1}(p) = \\text{log}\\frac{1}{F'(F^{-1}(p))} = \\text{log}\\frac{1}{q(f|D)} = -\\text{log}q(f|D)$$\n",
    "since inverse of cdf $F^{-1}$ is a sampler (!!!) then $F^{-1}=f$ and $F'$ is density function, so $F'=q(\\cdot|D)$. Therefore, we can calculate the entropy of $q$ as follows:\n",
    "\n",
    "$$H(q) = -\\mathbb{E}_{f \\sim q}\\text{log}q(f | D)= -\\mathbb{E}_{p \\sim U}\\text{log}q(F^{-1}(p) | D) = \\mathbb{E}_{f \\sim q}\\text{log}\\frac{d}{dp}F^{-1}(p)$$\n",
    "\n",
    "where the $F^{-1}: p \\rightarrow (\\mathcal{X} \\rightarrow \\mathcal{Y}) $ returns a neural network, $\\mathcal{X}$ is input space, $\\mathcal{Y}$ is the output space, $F^{-1}(p) = f$ and $p \\sim U$ is the source of randomness.\n",
    "\n",
    "Niestety to pewnie nie działa, bo rzeczywiście $F^{-1}$ jest samplerem z dystrybucji, ale nie każdy sampler jest odwrotnością cdf."
   ]
  },
  {
   "cell_type": "code",
   "execution_count": null,
   "id": "9d0e6fd6-3f7f-4ad7-8c9c-50d7e15c8094",
   "metadata": {},
   "outputs": [],
   "source": []
  },
  {
   "cell_type": "code",
   "execution_count": 104,
   "id": "ca177332-1190-42d6-8d4a-108712ecc6b6",
   "metadata": {},
   "outputs": [],
   "source": [
    "v = np.linspace(0,1,1002)[1:-1]"
   ]
  },
  {
   "cell_type": "code",
   "execution_count": 105,
   "id": "fe10abc6-ddf3-488b-aca6-e6720269e10d",
   "metadata": {},
   "outputs": [],
   "source": [
    "def f(p):\n",
    "    return np.where(p < 0.5, 2*p, 2-2*p)\n",
    "def g(p):\n",
    "    p3 = 3*p\n",
    "    return np.where(p3 < 1, p3, np.where(p3 < 2, 2-p3, p3-2))"
   ]
  },
  {
   "cell_type": "code",
   "execution_count": 41,
   "id": "b1f01db2-87f9-44fb-80be-8804aff9b33b",
   "metadata": {},
   "outputs": [
    {
     "data": {
      "text/plain": [
       "[<matplotlib.lines.Line2D at 0x7f0d3844e440>]"
      ]
     },
     "execution_count": 41,
     "metadata": {},
     "output_type": "execute_result"
    },
    {
     "data": {
      "image/png": "[encoded data removed]",
      "text/plain": [
       "<Figure size 640x480 with 1 Axes>"
      ]
     },
     "metadata": {},
     "output_type": "display_data"
    }
   ],
   "source": [
    "plt.plot(v, vmap(g)(v))"
   ]
  },
  {
   "cell_type": "code",
   "execution_count": 49,
   "id": "3ff35063-68fd-4c6e-95b6-e137ad8d484f",
   "metadata": {},
   "outputs": [
    {
     "data": {
      "text/plain": [
       "Array(0.6931473, dtype=float32)"
      ]
     },
     "execution_count": 49,
     "metadata": {},
     "output_type": "execute_result"
    }
   ],
   "source": [
    "np.log(np.abs(vmap(grad(f))(v))).mean()"
   ]
  },
  {
   "cell_type": "code",
   "execution_count": 56,
   "id": "5b00d74e-7cf3-4c63-8481-8472ad087623",
   "metadata": {},
   "outputs": [],
   "source": [
    "vals, grads = vmap(value_and_grad(f))(v)"
   ]
  },
  {
   "cell_type": "code",
   "execution_count": null,
   "id": "3ce7d33e-73d4-488d-820f-8773aedbdde4",
   "metadata": {},
   "outputs": [],
   "source": []
  },
  {
   "cell_type": "code",
   "execution_count": 87,
   "id": "56545ebe-e48c-4e49-91c2-6c53ef8c21cc",
   "metadata": {},
   "outputs": [
    {
     "data": {
      "text/plain": [
       "(array([778.,  36.,  24.,  20.,  18.,  16.,  16.,  18.,  22.,  52.]),\n",
       " array([1.88324410e-22, 3.98942307e-02, 7.97884613e-02, 1.19682685e-01,\n",
       "        1.59576923e-01, 1.99471146e-01, 2.39365369e-01, 2.79259592e-01,\n",
       "        3.19153845e-01, 3.59048069e-01, 3.98942292e-01]),\n",
       " <BarContainer object of 10 artists>)"
      ]
     },
     "execution_count": 87,
     "metadata": {},
     "output_type": "execute_result"
    },
    {
     "data": {
      "image/png": "[encoded data removed]",
      "text/plain": [
       "<Figure size 640x480 with 1 Axes>"
      ]
     },
     "metadata": {},
     "output_type": "display_data"
    }
   ],
   "source": [
    "plt.hist(sp.stats.norm.pdf(10*np.abs(vals - vals[:, np.newaxis])[3, :]))"
   ]
  },
  {
   "cell_type": "code",
   "execution_count": 166,
   "id": "3b77a915-ad99-47d1-82c4-ba847b8b71af",
   "metadata": {},
   "outputs": [],
   "source": [
    "def empirical_cdf(v, g=100):\n",
    "    s = np.sort(v)\n",
    "    l = np.linspace(0,1,s.shape[0])\n",
    "    def ecdf(x):\n",
    "        w = sp.stats.norm.pdf(g*(x-s))\n",
    "        return np.sum(l * w / np.sum(w))\n",
    "    return ecdf"
   ]
  },
  {
   "cell_type": "code",
   "execution_count": 167,
   "id": "14213f46-60d4-4f5e-992a-1ee36a8b6fdc",
   "metadata": {},
   "outputs": [],
   "source": [
    "key = jax.random.PRNGKey(13012023)\n",
    "ecdf = empirical_cdf(jax.random.normal(key, shape=(1000,)))"
   ]
  },
  {
   "cell_type": "code",
   "execution_count": 168,
   "id": "82f5edb7-2434-4e65-b2f8-2447914f7015",
   "metadata": {},
   "outputs": [
    {
     "data": {
      "text/plain": [
       "[<matplotlib.lines.Line2D at 0x7f0ca7a3d1e0>]"
      ]
     },
     "execution_count": 168,
     "metadata": {},
     "output_type": "execute_result"
    },
    {
     "data": {
      "image/png": "[encoded data removed]",
      "text/plain": [
       "<Figure size 640x480 with 1 Axes>"
      ]
     },
     "metadata": {},
     "output_type": "display_data"
    }
   ],
   "source": [
    "l = np.linspace(-3,3,100)\n",
    "plt.plot(l, vmap(ecdf)(l))"
   ]
  },
  {
   "cell_type": "code",
   "execution_count": 204,
   "id": "3d4e2491-156b-44c0-a8f7-ac9065e1d192",
   "metadata": {},
   "outputs": [],
   "source": [
    "def gcdf(f, us, g=1):\n",
    "    gfs = vmap(grad(f))(us)\n",
    "    def temp(x):\n",
    "        w = sp.stats.norm.pdf(g*(x-us))\n",
    "        return 1 / np.sum( (1 / gfs) * w / np.sum(w)) \n",
    "    return temp"
   ]
  },
  {
   "cell_type": "code",
   "execution_count": 205,
   "id": "1fe39a3b-b5f2-44fe-97db-bbdd90c10b9d",
   "metadata": {},
   "outputs": [],
   "source": [
    "us = jax.random.uniform(key, shape=(100000,))\n",
    "fs = vmap(f)(us)\n",
    "gs = vmap(g)(us)"
   ]
  },
  {
   "cell_type": "code",
   "execution_count": 206,
   "id": "42657542-7a08-41b1-9cd4-4f2eeb3ec00f",
   "metadata": {},
   "outputs": [
    {
     "data": {
      "text/plain": [
       "[<matplotlib.lines.Line2D at 0x7f0cd1a177f0>]"
      ]
     },
     "execution_count": 206,
     "metadata": {},
     "output_type": "execute_result"
    },
    {
     "data": {
      "image/png": "[encoded data removed]",
      "text/plain": [
       "<Figure size 640x480 with 1 Axes>"
      ]
     },
     "metadata": {},
     "output_type": "display_data"
    }
   ],
   "source": [
    "l = np.linspace(-3,3,1000)\n",
    "plt.plot(l, vmap(empirical_cdf(fs))(l))\n",
    "plt.plot(l, vmap(empirical_cdf(gs))(l))"
   ]
  },
  {
   "cell_type": "code",
   "execution_count": 209,
   "id": "b11d4a8f-ce3e-4edc-9f2e-3b2fc7b5ac75",
   "metadata": {},
   "outputs": [
    {
     "data": {
      "text/plain": [
       "[<matplotlib.lines.Line2D at 0x7f0ca6d8bb20>]"
      ]
     },
     "execution_count": 209,
     "metadata": {},
     "output_type": "execute_result"
    },
    {
     "data": {
      "image/png": "[encoded data removed]",
      "text/plain": [
       "<Figure size 640x480 with 1 Axes>"
      ]
     },
     "metadata": {},
     "output_type": "display_data"
    }
   ],
   "source": [
    "l = np.linspace(-1,2,1000)\n",
    "plt.plot(l, vmap(grad(empirical_cdf(fs)))(l))\n",
    "plt.plot(l, vmap(grad(empirical_cdf(gs)))(l))\n",
    "# plt.plot(l, vmap(gcdf(f, us))(l))\n",
    "plt.plot(l, vmap(gcdf(g, us))(l))"
   ]
  },
  {
   "cell_type": "code",
   "execution_count": null,
   "id": "a0e5b52f-8029-4fe7-9fed-1a20af253006",
   "metadata": {},
   "outputs": [],
   "source": []
  },
  {
   "cell_type": "code",
   "execution_count": null,
   "id": "b912e561-24f2-41e0-8580-699bd3b75fa3",
   "metadata": {},
   "outputs": [],
   "source": []
  },
  {
   "cell_type": "code",
   "execution_count": 90,
   "id": "07e696e9-eb8d-4bb0-970f-cc2e4e730717",
   "metadata": {},
   "outputs": [],
   "source": [
    "w = sp.stats.norm.pdf(10*np.abs(vals - vals[:, np.newaxis]))"
   ]
  },
  {
   "cell_type": "code",
   "execution_count": 91,
   "id": "b408f83e-9012-43bd-8d2e-78a45b34278b",
   "metadata": {},
   "outputs": [
    {
     "data": {
      "text/plain": [
       "Array([ 2.26497650e-05,  2.24113464e-05,  2.09808350e-05,  2.19345093e-05,\n",
       "        2.26497650e-05,  2.09808350e-05,  2.14576721e-05,  2.31266022e-05,\n",
       "        2.21729279e-05,  2.19345093e-05,  2.14576721e-05,  2.33650208e-05,\n",
       "        2.26497650e-05,  2.09808350e-05,  2.26497650e-05,  2.26497650e-05,\n",
       "        2.02655792e-05,  2.16960907e-05,  2.26497650e-05,  2.09808350e-05,\n",
       "        2.12192535e-05,  2.00271606e-05,  2.02655792e-05,  2.00271606e-05,\n",
       "        1.81198120e-05,  1.97887421e-05,  2.07424164e-05,  1.81198120e-05,\n",
       "        2.02655792e-05,  1.93119049e-05,  1.93119049e-05,  1.97887421e-05,\n",
       "        1.81198120e-05,  1.83582306e-05,  1.81198120e-05,  1.62124634e-05,\n",
       "        1.80006027e-05,  1.99079514e-05,  1.53779984e-05,  1.71661377e-05,\n",
       "        1.46627426e-05,  1.69277191e-05,  1.69277191e-05,  1.64508820e-05,\n",
       "        1.65700912e-05,  1.57356262e-05,  1.40666962e-05,  1.45435333e-05,\n",
       "        1.69277191e-05,  1.21593475e-05,  1.47819519e-05,  1.20401382e-05,\n",
       "        1.31130219e-05,  1.43051147e-05,  1.33514404e-05,  1.31130219e-05,\n",
       "        1.28746033e-05,  1.08480453e-05,  1.12056732e-05,  1.31130219e-05,\n",
       "        9.41753387e-06,  1.19209290e-05,  1.16825104e-05,  1.03712082e-05,\n",
       "        1.08480453e-05,  9.77516174e-06,  1.04904175e-05,  1.00135803e-05,\n",
       "        8.22544098e-06,  8.22544098e-06,  9.89437103e-06,  7.33137131e-06,\n",
       "        9.53674316e-06,  8.52346420e-06,  7.74860382e-06,  8.16583633e-06,\n",
       "        7.51018524e-06,  7.39097595e-06,  7.45058060e-06,  6.25848770e-06,\n",
       "        5.96046448e-06,  5.51342964e-06,  5.24520874e-06,  6.25848770e-06,\n",
       "        6.02006912e-06,  5.57303429e-06,  5.57303429e-06,  4.70876694e-06,\n",
       "        5.36441803e-06,  4.70876694e-06,  4.44054604e-06,  3.24845314e-06,\n",
       "        3.30805779e-06,  3.42726707e-06,  4.17232513e-06,  2.59280205e-06,\n",
       "        3.68058681e-06,  3.01003456e-06,  2.90572643e-06,  3.32295895e-06,\n",
       "        2.81631947e-06,  2.47359276e-06,  1.74343586e-06,  1.51991844e-06,\n",
       "        1.69873238e-06,  2.62260437e-06,  1.37090683e-06,  1.43051147e-06,\n",
       "        1.49011612e-06,  1.59442425e-06,  2.71946192e-06,  1.69128180e-06,\n",
       "        1.00582838e-06,  4.91738319e-07,  1.11758709e-07,  3.72529030e-08,\n",
       "        1.60932541e-06, -6.63101673e-07,  7.45058060e-07,  6.70552254e-07,\n",
       "        7.07805157e-07,  1.49011612e-07, -3.05473804e-07,  7.89761543e-07,\n",
       "       -3.24100256e-07,  5.96046448e-07, -5.51342964e-07, -2.60770321e-07,\n",
       "       -1.64285302e-06, -7.48783350e-07,  2.16066837e-07, -1.41561031e-06,\n",
       "        2.98023224e-07, -1.31875277e-06, -1.13993883e-06, -1.08778477e-06,\n",
       "       -2.60770321e-08, -5.84870577e-07, -6.35161996e-07, -2.32830644e-06,\n",
       "       -1.47521496e-06, -1.02818012e-06, -2.21282244e-06, -7.50645995e-07,\n",
       "       -2.09175050e-06, -2.09733844e-06, -1.27311796e-06, -9.89995897e-07,\n",
       "       -2.06567347e-06, -1.55437738e-06, -3.07057053e-06, -1.58045441e-06,\n",
       "       -2.23517418e-06, -2.16718763e-06, -1.05425715e-06, -2.55787745e-06,\n",
       "       -2.05123797e-06, -1.30757689e-06, -1.30711123e-06, -2.21934170e-06,\n",
       "       -1.61724165e-06, -2.86661088e-06, -1.60001218e-06, -1.94180757e-06,\n",
       "       -1.84169039e-06, -8.08387995e-07, -2.33645551e-06, -1.44354999e-06,\n",
       "       -1.32247806e-06, -1.30897388e-06, -1.80304050e-06, -1.39023177e-06,\n",
       "       -2.34111212e-06, -8.49133357e-07, -1.75379682e-06, -2.31468584e-06,\n",
       "       -7.23870471e-07, -1.59768388e-06, -7.31088221e-07, -5.68805262e-07,\n",
       "       -9.47155058e-07, -7.87549652e-07, -9.97679308e-07, -1.53121073e-06,\n",
       "       -7.10831955e-07, -1.00565376e-06, -1.29832188e-06,  5.00178430e-07,\n",
       "       -1.43790385e-06,  2.90456228e-08, -6.59376383e-07,  1.41793862e-07,\n",
       "       -1.13836722e-06, -1.82248186e-07, -1.08912354e-06, -2.38069333e-08,\n",
       "       -6.22589141e-07, -3.97325493e-07,  7.56233931e-07, -6.65459083e-07,\n",
       "        4.66854544e-07,  1.29948603e-07,  1.12809357e-06, -3.92697984e-07,\n",
       "        7.27275619e-07,  8.55361577e-08,  1.02707418e-06, -2.35377229e-07,\n",
       "        1.63519871e-07,  1.67943654e-06,  6.37846824e-07,  1.31600245e-06,\n",
       "        6.21155777e-07,  5.92299330e-07,  4.34600224e-07,  1.00436591e-06,\n",
       "        3.24631401e-07,  1.94813765e-06,  1.87166734e-07, -1.82539225e-07,\n",
       "        1.95308530e-06,  4.04907041e-07,  9.30682290e-07,  9.79867764e-07,\n",
       "        8.35250830e-07, -7.50878826e-09,  1.51549466e-06,  2.18045898e-07,\n",
       "        1.67562393e-06,  1.19733158e-07,  1.00670150e-07,  1.53758447e-06,\n",
       "        1.02832564e-06,  7.13844202e-07,  4.94517735e-07, -4.19095159e-09,\n",
       "        4.30722139e-07,  1.42815406e-06,  6.27245754e-07,  1.88281410e-06,\n",
       "        4.38842108e-07,  1.19172910e-06,  1.84460805e-06,  8.06766366e-07,\n",
       "        2.51823622e-07,  4.09127097e-08,  3.48656613e-07, -2.88899173e-07,\n",
       "        1.04112405e-06,  1.87166734e-07,  3.43192369e-07,  7.81743438e-07,\n",
       "       -3.81362042e-07,  1.12556154e-06,  1.27154635e-07,  1.99972419e-07,\n",
       "       -1.94821041e-07, -6.13770681e-07,  7.10599124e-07,  1.43481884e-07,\n",
       "        6.00441126e-07, -7.63480784e-07, -3.68308974e-07, -6.75805495e-07,\n",
       "        8.72198143e-07, -1.70533895e-07, -6.31014700e-07, -6.64469553e-07,\n",
       "       -4.73417458e-07, -8.39645509e-09, -4.51756932e-07, -1.30479748e-07,\n",
       "       -1.34611764e-06, -3.92290531e-07, -1.75150672e-06,  1.50612323e-09,\n",
       "       -8.85564077e-07, -6.98957592e-07, -7.81554263e-07, -1.39165786e-06,\n",
       "       -6.28308044e-07, -8.62753950e-07, -1.81054929e-07, -1.41805504e-06,\n",
       "       -5.07716322e-07, -1.69163104e-06, -3.17872036e-07, -1.54064037e-06,\n",
       "       -6.91041350e-07, -1.79267954e-06, -2.06247205e-06, -1.98301859e-06,\n",
       "       -1.56945316e-06, -5.16534783e-07, -1.92655716e-06, -1.28534157e-06,\n",
       "       -2.65543349e-06, -1.47329411e-06, -2.35630432e-06, -1.79721974e-06,\n",
       "       -2.20979564e-06, -2.59897206e-06, -2.28418503e-06, -1.69803388e-06,\n",
       "       -1.04133505e-06, -1.78336632e-06, -1.02969352e-06, -2.65310518e-06,\n",
       "       -1.39803160e-06, -1.55402813e-06, -1.40175689e-06, -1.98360067e-06,\n",
       "       -2.42434908e-06, -2.48954166e-06, -1.42026693e-06, -1.20489858e-06,\n",
       "       -2.20967922e-06, -1.63028017e-06, -3.48826870e-06, -1.48452818e-06,\n",
       "       -2.51620077e-06, -1.52713619e-06, -1.95740722e-06, -2.14274041e-06,\n",
       "       -2.44379044e-06, -1.93901360e-06, -1.23074278e-06, -1.69873238e-06,\n",
       "       -1.56508759e-06, -2.76556239e-06, -1.34296715e-06, -2.64169648e-06,\n",
       "       -1.02538615e-06, -1.70804560e-06, -2.36928463e-06, -2.28360295e-06,\n",
       "       -1.64471567e-06, -1.03935599e-06, -1.67079270e-06, -1.62608922e-06,\n",
       "       -2.59093940e-06, -1.27218664e-06, -2.19885260e-06, -9.20146704e-07,\n",
       "       -1.71735883e-06, -2.07871199e-06, -2.50712037e-06, -2.30967999e-06,\n",
       "       -8.97794962e-07, -1.35786831e-06, -3.53902578e-07, -2.06194818e-06,\n",
       "       -7.65547156e-07, -2.15321779e-06, -8.45640898e-07, -1.42678618e-06,\n",
       "       -9.76026058e-07, -1.60932541e-06, -1.24797225e-06, -4.39584255e-07,\n",
       "       -9.38773155e-07,  1.97440386e-07, -1.42306089e-06, -7.30156898e-07,\n",
       "       -1.49756670e-06, -4.47034836e-07, -7.07805157e-07, -1.18464231e-06,\n",
       "       -1.07288361e-06, -9.83476639e-07, -4.47034836e-08, -4.47034836e-08,\n",
       "        2.53319740e-07, -1.02818012e-06, -3.35276127e-07, -1.75088644e-06,\n",
       "       -1.41561031e-07, -7.07805157e-07, -8.04662704e-07, -1.47521496e-06,\n",
       "       -4.61935997e-07, -5.66244125e-07,  3.42726707e-07, -8.19563866e-07,\n",
       "       -1.60932541e-06, -4.02331352e-07, -1.86264515e-06, -2.98023224e-08,\n",
       "       -9.23871994e-07, -2.83122063e-07, -1.43051147e-06, -1.10268593e-06,\n",
       "       -1.07288361e-06, -6.85453415e-07, -1.54972076e-06, -1.90734863e-06,\n",
       "       -5.96046448e-07, -2.44379044e-06, -7.15255737e-07, -2.05636024e-06,\n",
       "       -1.25169754e-06, -2.50339508e-06, -1.46031380e-06, -1.78813934e-06,\n",
       "       -1.13248825e-06, -2.11596489e-06, -3.30805779e-06, -1.66893005e-06,\n",
       "       -3.51667404e-06, -2.26497650e-06, -3.21865082e-06, -2.62260437e-06,\n",
       "       -3.81469727e-06, -3.45706940e-06, -3.57627869e-06, -3.63588333e-06,\n",
       "       -4.05311584e-06, -4.64916229e-06, -3.75509262e-06, -5.78165054e-06,\n",
       "       -4.23192978e-06, -5.12599945e-06, -4.58955765e-06, -6.19888306e-06,\n",
       "       -6.13927841e-06, -6.43730164e-06, -6.07967377e-06, -6.43730164e-06,\n",
       "       -7.15255737e-06, -6.31809235e-06, -8.22544098e-06, -7.03334808e-06,\n",
       "       -8.58306885e-06, -7.51018524e-06, -9.29832458e-06, -8.46385956e-06,\n",
       "       -9.41753387e-06, -8.58306885e-06, -9.29832458e-06, -1.04904175e-05,\n",
       "       -9.29832458e-06, -1.12056732e-05, -1.00135803e-05, -1.16825104e-05,\n",
       "       -1.02519989e-05, -1.22785568e-05, -1.12056732e-05, -1.25169754e-05,\n",
       "       -1.16825104e-05, -1.28746033e-05, -1.34706497e-05, -1.22785568e-05,\n",
       "       -1.45435333e-05, -1.33514404e-05, -1.50203705e-05, -1.38282776e-05,\n",
       "       -1.52587891e-05, -1.52587891e-05, -1.59740448e-05, -1.54972076e-05,\n",
       "       -1.62124634e-05, -1.62124634e-05, -1.54972076e-05, -1.69277191e-05,\n",
       "       -1.62124634e-05, -1.76429749e-05, -1.66893005e-05, -1.78813934e-05,\n",
       "       -1.78813934e-05, -1.81198120e-05, -1.76429749e-05, -1.85966492e-05,\n",
       "       -1.90734863e-05, -1.88350677e-05, -1.97887421e-05, -1.97887421e-05,\n",
       "       -2.07424164e-05, -2.00271606e-05, -2.07424164e-05, -2.07424164e-05,\n",
       "       -2.02655792e-05, -2.05039978e-05, -2.09808350e-05, -2.12192535e-05,\n",
       "       -2.12192535e-05, -2.19345093e-05, -2.16960907e-05, -2.16960907e-05,\n",
       "       -2.19345093e-05, -2.21729279e-05, -2.24113464e-05, -2.21729279e-05,\n",
       "       -2.19345093e-05, -2.24113464e-05, -2.26497650e-05, -2.19345093e-05,\n",
       "       -2.28881836e-05, -2.24113464e-05, -2.28881836e-05, -2.28881836e-05,\n",
       "       -2.24113464e-05, -2.28881836e-05, -2.24113464e-05, -2.24113464e-05,\n",
       "       -2.28881836e-05, -2.21729279e-05, -2.24113464e-05, -2.19345093e-05,\n",
       "       -2.21729279e-05, -2.19345093e-05, -2.21729279e-05, -2.16960907e-05,\n",
       "       -2.19345093e-05, -2.16960907e-05, -2.12192535e-05, -2.19345093e-05,\n",
       "       -2.05039978e-05, -2.09808350e-05, -2.02655792e-05, -2.02655792e-05,\n",
       "       -2.07424164e-05, -2.07424164e-05, -2.00271606e-05, -2.02655792e-05,\n",
       "       -1.97887421e-05, -1.93119049e-05, -1.95503235e-05, -1.85966492e-05,\n",
       "       -1.85966492e-05, -1.78813934e-05, -1.81198120e-05, -1.78813934e-05,\n",
       "       -1.78813934e-05, -1.71661377e-05, -1.76429749e-05, -1.74045563e-05,\n",
       "       -1.66893005e-05, -1.69277191e-05, -1.57356262e-05, -1.62124634e-05,\n",
       "       -1.52587891e-05, -1.59740448e-05, -1.50203705e-05, -1.52587891e-05,\n",
       "       -1.38282776e-05, -1.43051147e-05, -1.40666962e-05, -1.33514404e-05,\n",
       "       -1.32322311e-05, -1.27553940e-05, -1.28746033e-05, -1.19209290e-05,\n",
       "       -1.25169754e-05, -1.13248825e-05, -1.22785568e-05, -1.07288361e-05,\n",
       "       -1.10864639e-05, -1.04904175e-05, -1.01327896e-05, -1.02519989e-05,\n",
       "       -9.29832458e-06, -9.29832458e-06, -8.70227814e-06, -9.41753387e-06,\n",
       "       -8.58306885e-06, -9.29832458e-06, -7.62939453e-06, -7.62939453e-06,\n",
       "       -7.51018524e-06, -7.15255737e-06, -6.67572021e-06, -6.07967377e-06,\n",
       "       -6.43730164e-06, -5.48362732e-06, -6.43730164e-06, -5.66244125e-06,\n",
       "       -6.19888306e-06, -5.00679016e-06, -5.12599945e-06, -5.00679016e-06,\n",
       "       -4.29153442e-06, -4.05311584e-06, -3.63588333e-06, -4.05311584e-06,\n",
       "       -3.33786011e-06, -3.57627869e-06, -3.21865082e-06, -3.81469727e-06,\n",
       "       -2.62260437e-06, -3.21865082e-06, -3.15904617e-06, -2.62260437e-06,\n",
       "       -2.74181366e-06, -1.63912773e-06, -2.11596489e-06, -1.49011612e-06,\n",
       "       -1.78813934e-06, -1.13248825e-06, -2.50339508e-06, -1.49011612e-06,\n",
       "       -2.05636024e-06, -1.69873238e-06, -1.84774399e-06, -1.22189522e-06,\n",
       "       -7.74860382e-07, -1.54972076e-06, -8.04662704e-07, -1.07288361e-06,\n",
       "       -1.28149986e-06, -1.43051147e-06, -8.34465027e-07, -9.23871994e-07,\n",
       "       -6.85453415e-07, -8.94069672e-07, -1.02818012e-06,  2.08616257e-07,\n",
       "       -8.19563866e-07, -2.08616257e-07, -5.66244125e-07, -1.19209290e-07,\n",
       "       -1.47521496e-06, -7.45058060e-07, -7.07805157e-07, -6.40749931e-07,\n",
       "       -4.24683094e-07, -6.92903996e-07, -9.68575478e-08, -5.88595867e-07,\n",
       "       -3.87430191e-07, -4.47034836e-08,  1.26659870e-07, -1.07288361e-06,\n",
       "       -4.91738319e-07, -7.07805157e-07, -1.00582838e-06, -2.86847353e-07,\n",
       "       -9.23871994e-07, -4.24683094e-07, -6.33299351e-07, -4.13507223e-07,\n",
       "       -4.39584255e-07, -6.03497028e-07, -1.60932541e-06, -5.14090061e-07,\n",
       "       -1.42678618e-06, -1.34482980e-06, -7.00354576e-07, -1.43609941e-06,\n",
       "       -8.94069672e-07, -8.49366188e-07, -1.69128180e-06, -8.97794962e-07,\n",
       "       -1.03376806e-06, -2.50712037e-06, -1.16787851e-06, -1.71735883e-06,\n",
       "       -1.37835741e-06, -1.00489706e-06, -1.46031380e-06, -8.36327672e-07,\n",
       "       -1.13435090e-06, -1.49291009e-06, -1.03935599e-06, -1.36811286e-06,\n",
       "       -2.28360295e-06, -1.04587525e-06, -1.70804560e-06, -1.71177089e-06,\n",
       "       -1.20373443e-06, -1.76951289e-06, -1.28755346e-06, -1.68289989e-06,\n",
       "       -1.56462193e-06, -1.23074278e-06, -1.26054510e-06, -2.44379044e-06,\n",
       "       -1.69966370e-06, -1.95740722e-06, -1.75228342e-06, -1.58580951e-06,\n",
       "       -1.77789479e-06, -1.48918480e-06, -2.25473195e-06, -1.65915117e-06,\n",
       "       -1.20489858e-06, -1.69477426e-06, -2.48954166e-06, -1.37032475e-06,\n",
       "       -1.98360067e-06, -1.88045669e-06, -1.18964817e-06, -1.33411959e-06,\n",
       "       -6.54254109e-07, -1.83319207e-06, -1.11357076e-06, -1.04133505e-06,\n",
       "       -1.04861101e-06, -2.28418503e-06, -2.93308403e-07, -2.20979564e-06,\n",
       "       -1.59064075e-06, -1.06793595e-06, -1.20076584e-06, -8.65198672e-07,\n",
       "       -2.35694461e-06, -3.09548341e-07, -5.16534783e-07, -1.15844887e-06,\n",
       "       -1.98301859e-06, -5.91331627e-07, -1.79267954e-06, -1.37850293e-06,\n",
       "       -7.88742909e-07, -9.39384336e-07, -4.67611244e-07, -1.63883669e-06,\n",
       "       -6.92962203e-08, -1.81054929e-07, -4.81726602e-07, -6.28308044e-07,\n",
       "       -2.78057996e-07, -7.81554263e-07, -1.38639007e-06,  4.02818841e-07,\n",
       "       -5.60445187e-07,  4.85854798e-07, -1.04669380e-06,  8.37018888e-07,\n",
       "       -1.30479748e-07,  1.67798134e-07, -8.39645509e-09,  4.01865691e-07,\n",
       "       -6.64469553e-07, -3.64787411e-07,  1.11792178e-06,  3.69604095e-07,\n",
       "        6.67176209e-07, -3.66824679e-07,  7.63975549e-07,  6.00441126e-07,\n",
       "        1.00140460e-06,  7.10599124e-07,  1.09596294e-06, -1.94821041e-07,\n",
       "        4.06085746e-07,  1.35596201e-06,  7.42438715e-07,  1.67680264e-06,\n",
       "        1.86802936e-07,  9.76433512e-07,  9.02087777e-07,  1.72165892e-06,\n",
       "        1.30591798e-06,  1.40222255e-06,  4.09127097e-08,  1.05443542e-06,\n",
       "        1.85661702e-06,  1.22214260e-06,  1.64169614e-06,  5.51597623e-07,\n",
       "        1.74269371e-06,  5.07236109e-07,  2.34640902e-06,  1.01221667e-06,\n",
       "        1.88536069e-06,  4.94517735e-07,  1.33657886e-06,  1.02832564e-06,\n",
       "        1.39325857e-06,  1.32282730e-06,  1.24558574e-06,  1.59456977e-06,\n",
       "        1.16968295e-06,  2.13491148e-06,  8.72794772e-07,  2.30534351e-06,\n",
       "        9.79867764e-07,  1.55408634e-06,  4.04907041e-07,  1.62606011e-06,\n",
       "        1.27447129e-06,  8.33621016e-07,  1.44626392e-06,  8.58177373e-07,\n",
       "        2.69470183e-06,  4.78910806e-07,  2.06594268e-06,  6.21155777e-07,\n",
       "        1.51760469e-06,  6.37846824e-07,  1.83327938e-06,  5.99451596e-07,\n",
       "        7.66929588e-07,  1.11715053e-06,  8.58155545e-07,  1.75705645e-06,\n",
       "        2.49914592e-07,  1.52151915e-06,  1.29948603e-07,  1.39072654e-06,\n",
       "       -6.65459083e-07,  1.13621354e-06,  4.43425961e-07, -2.17522029e-07,\n",
       "        1.19616743e-06,  1.57160684e-07,  1.31240813e-06,  3.36556695e-07,\n",
       "        1.25286169e-06, -6.59376383e-07,  9.57516022e-08, -1.43790385e-06,\n",
       "        2.23750249e-07, -2.53261533e-07, -7.25849532e-07,  3.54077201e-07,\n",
       "        4.12575901e-07,  7.22007826e-07, -4.08501364e-07, -2.86498107e-07,\n",
       "       -5.68805262e-07, -1.49873085e-06, -1.59768388e-06, -3.12691554e-07,\n",
       "       -8.45640898e-07, -1.24354847e-06, -2.00932845e-07,  3.01050022e-07,\n",
       "       -3.24798748e-07, -1.10431574e-06, -1.04214996e-06, -1.32247806e-06,\n",
       "       -7.40867108e-07, -2.33645551e-06, -7.67642632e-07, -9.83476639e-07,\n",
       "       -1.09942630e-06, -9.33185220e-07, -4.87547368e-07, -4.29805368e-07,\n",
       "       -1.55577436e-06, -1.41421333e-06, -1.30757689e-06, -1.02352351e-06,\n",
       "       -2.55787745e-06, -2.18767673e-06, -6.83590770e-07, -1.20326877e-06,\n",
       "       -9.09902155e-07, -3.70666385e-07, -2.28174031e-07, -1.82911754e-06,\n",
       "       -5.83939254e-07, -1.27311796e-06, -5.79282641e-07, -2.09175050e-06,\n",
       "       -1.12131238e-06, -4.50760126e-07, -6.89178705e-07, -7.58096576e-07,\n",
       "       -4.47034836e-08,  5.42029738e-07, -1.26287341e-06, -1.13807619e-06,\n",
       "       -1.08778477e-06, -2.34693289e-07, -1.31875277e-06, -7.74860382e-07,\n",
       "       -3.05473804e-07, -6.18398190e-07, -1.37835741e-07, -3.27825546e-07,\n",
       "        1.17719173e-06, -5.55068254e-07, -4.17232513e-07, -6.03497028e-07,\n",
       "        6.10947609e-07, -3.05473804e-07,  6.10947609e-07,  7.45058060e-07,\n",
       "        1.19209290e-06,  7.97212124e-07,  7.30156898e-07,  1.27404928e-06,\n",
       "        8.71717930e-07,  1.23679638e-06,  6.40749931e-07,  1.45286322e-06,\n",
       "        1.69128180e-06,  1.86264515e-06,  1.84774399e-06,  2.56299973e-06,\n",
       "        1.90734863e-06,  2.35438347e-06,  3.66568565e-06,  2.71201134e-06,\n",
       "        2.50339508e-06,  2.27987766e-06,  3.11434269e-06,  2.81631947e-06,\n",
       "        3.69548798e-06,  4.27663326e-06,  3.68058681e-06,  4.15742397e-06,\n",
       "        4.76837158e-06,  5.30481339e-06,  4.64916229e-06,  4.64916229e-06,\n",
       "        4.05311584e-06,  4.41074371e-06,  4.70876694e-06,  5.66244125e-06,\n",
       "        6.16908073e-06,  6.37769699e-06,  7.03334808e-06,  6.02006912e-06,\n",
       "        7.71880150e-06,  7.59959221e-06,  6.88433647e-06,  6.91413879e-06,\n",
       "        7.21216202e-06,  7.45058060e-06,  8.46385956e-06,  8.82148743e-06,\n",
       "        8.94069672e-06,  9.83476639e-06,  9.17911530e-06,  1.03116035e-05,\n",
       "        9.47713852e-06,  1.02519989e-05,  9.65595245e-06,  1.01327896e-05,\n",
       "        1.00135803e-05,  1.08480453e-05,  1.09672546e-05,  1.14440918e-05,\n",
       "        1.26361847e-05,  1.18017197e-05,  1.32322311e-05,  1.27553940e-05,\n",
       "        1.29938126e-05,  1.21593475e-05,  1.26361847e-05,  1.29938126e-05,\n",
       "        1.32322311e-05,  1.33514404e-05,  1.41859055e-05,  1.54972076e-05,\n",
       "        1.46627426e-05,  1.57356262e-05,  1.54972076e-05,  1.54972076e-05,\n",
       "        1.51395798e-05,  1.56164169e-05,  1.62124634e-05,  1.58548355e-05,\n",
       "        1.64508820e-05,  1.69277191e-05,  1.83582306e-05,  1.74045563e-05,\n",
       "        1.96695328e-05,  1.82390213e-05,  1.84774399e-05,  1.80006027e-05,\n",
       "        1.88350677e-05,  1.88350677e-05,  1.81198120e-05,  1.81198120e-05,\n",
       "        1.90734863e-05,  1.95503235e-05,  1.97887421e-05,  2.12192535e-05,\n",
       "        2.07424164e-05,  2.05039978e-05,  1.95503235e-05,  2.12192535e-05,\n",
       "        2.09808350e-05,  2.02655792e-05,  2.00271606e-05,  2.05039978e-05,\n",
       "        2.16960907e-05,  2.14576721e-05,  2.28881836e-05,  2.24113464e-05,\n",
       "        2.26497650e-05,  2.26497650e-05,  2.26497650e-05,  2.26497650e-05,\n",
       "        2.21729279e-05,  2.14576721e-05,  2.19345093e-05,  2.24113464e-05,\n",
       "        2.24113464e-05,  2.28881836e-05,  2.24113464e-05,  2.24113464e-05,\n",
       "        2.24113464e-05,  2.19345093e-05,  2.26497650e-05,  2.16960907e-05],      dtype=float32)"
      ]
     },
     "execution_count": 91,
     "metadata": {},
     "output_type": "execute_result"
    }
   ],
   "source": [
    "(grads * w).sum(1)"
   ]
  },
  {
   "cell_type": "code",
   "execution_count": 92,
   "id": "09178564-4cfe-431c-ab20-553c1c7a6440",
   "metadata": {},
   "outputs": [
    {
     "data": {
      "text/plain": [
       "Array(1.0986121, dtype=float32)"
      ]
     },
     "execution_count": 92,
     "metadata": {},
     "output_type": "execute_result"
    }
   ],
   "source": [
    "np.log(np.abs(vmap(grad(g))(v))).mean()"
   ]
  },
  {
   "cell_type": "code",
   "execution_count": null,
   "id": "d5abfdb7-f7dc-4cf2-8348-017d1296f408",
   "metadata": {},
   "outputs": [],
   "source": []
  }
 ],
 "metadata": {
  "kernelspec": {
   "display_name": "Python 3 (ipykernel)",
   "language": "python",
   "name": "python3"
  },
  "language_info": {
   "codemirror_mode": {
    "name": "ipython",
    "version": 3
   },
   "file_extension": ".py",
   "mimetype": "text/x-python",
   "name": "python",
   "nbconvert_exporter": "python",
   "pygments_lexer": "ipython3",
   "version": "3.10.6"
  }
 },
 "nbformat": 4,
 "nbformat_minor": 5
}
